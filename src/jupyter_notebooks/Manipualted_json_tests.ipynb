{
 "cells": [
  {
   "cell_type": "code",
   "execution_count": 1,
   "id": "1ee4854a",
   "metadata": {},
   "outputs": [],
   "source": [
    "import pandas as pd\n",
    "import json"
   ]
  },
  {
   "cell_type": "code",
   "execution_count": 2,
   "id": "a415e378",
   "metadata": {},
   "outputs": [],
   "source": [
    "data_dir = '/Users/s2531396/Library/CloudStorage/OneDrive-UniversityofEdinburgh/PhD/Code'"
   ]
  },
  {
   "cell_type": "code",
   "execution_count": 93,
   "id": "1704c46a",
   "metadata": {},
   "outputs": [],
   "source": [
    "file = open('19235.json')"
   ]
  },
  {
   "cell_type": "code",
   "execution_count": 94,
   "id": "e2bda5d5",
   "metadata": {},
   "outputs": [],
   "source": [
    "data = json.load(file)"
   ]
  },
  {
   "cell_type": "code",
   "execution_count": 12,
   "id": "203bfb91",
   "metadata": {},
   "outputs": [
    {
     "data": {
      "text/plain": [
       "19235"
      ]
     },
     "execution_count": 12,
     "metadata": {},
     "output_type": "execute_result"
    }
   ],
   "source": [
    "data['id']"
   ]
  },
  {
   "cell_type": "code",
   "execution_count": 3,
   "id": "92368c50",
   "metadata": {},
   "outputs": [],
   "source": [
    "with open('19235.json', 'r') as file:\n",
    "    data = json.load(file)"
   ]
  },
  {
   "cell_type": "code",
   "execution_count": 4,
   "id": "816c2915",
   "metadata": {},
   "outputs": [],
   "source": [
    "df = pd.json_normalize(data)"
   ]
  },
  {
   "cell_type": "code",
   "execution_count": 5,
   "id": "25dc19be",
   "metadata": {},
   "outputs": [
    {
     "data": {
      "text/html": [
       "<div>\n",
       "<style scoped>\n",
       "    .dataframe tbody tr th:only-of-type {\n",
       "        vertical-align: middle;\n",
       "    }\n",
       "\n",
       "    .dataframe tbody tr th {\n",
       "        vertical-align: top;\n",
       "    }\n",
       "\n",
       "    .dataframe thead th {\n",
       "        text-align: right;\n",
       "    }\n",
       "</style>\n",
       "<table border=\"1\" class=\"dataframe\">\n",
       "  <thead>\n",
       "    <tr style=\"text-align: right;\">\n",
       "      <th></th>\n",
       "      <th>id</th>\n",
       "      <th>versionId</th>\n",
       "      <th>species</th>\n",
       "      <th>dataCategory</th>\n",
       "      <th>generalDesc.name</th>\n",
       "      <th>generalDesc.purpose</th>\n",
       "      <th>generalDesc.description</th>\n",
       "      <th>generalDesc.comments</th>\n",
       "      <th>contributionDesc.authors</th>\n",
       "      <th>contributionDesc.curators</th>\n",
       "      <th>...</th>\n",
       "      <th>bioSummary.growthStages</th>\n",
       "      <th>bioSummary.tagTypes</th>\n",
       "      <th>bioSummary.materialTypes</th>\n",
       "      <th>bioSummary.materialOrigins</th>\n",
       "      <th>bioSummary.customTags</th>\n",
       "      <th>bioSummary.externalIds</th>\n",
       "      <th>provenance.created</th>\n",
       "      <th>provenance.createdBy</th>\n",
       "      <th>provenance.modified</th>\n",
       "      <th>provenance.modifiedBy</th>\n",
       "    </tr>\n",
       "  </thead>\n",
       "  <tbody>\n",
       "    <tr>\n",
       "      <th>0</th>\n",
       "      <td>19235</td>\n",
       "      <td>1.0.5</td>\n",
       "      <td>Arabidopsis thaliana</td>\n",
       "      <td>EXPR_REPORTER</td>\n",
       "      <td>Role of PRR7 in control of the CCA1 promoter</td>\n",
       "      <td>To test whether PRR7 is required for circadian...</td>\n",
       "      <td>In previous experiments several clock mutation...</td>\n",
       "      <td>Details are as in Bordage et al (2016) New Phy...</td>\n",
       "      <td>[{'id': 2627, 'login': 'hnimmo', 'firstName': ...</td>\n",
       "      <td>[]</td>\n",
       "      <td>...</td>\n",
       "      <td>[]</td>\n",
       "      <td>[]</td>\n",
       "      <td>[]</td>\n",
       "      <td>[]</td>\n",
       "      <td>[]</td>\n",
       "      <td>[]</td>\n",
       "      <td>[2021, 5, 20, 11, 40, 29, 435610000]</td>\n",
       "      <td>Hugh Nimmo</td>\n",
       "      <td>[2021, 9, 22, 10, 12, 6, 894984951]</td>\n",
       "      <td>Hugh Nimmo</td>\n",
       "    </tr>\n",
       "  </tbody>\n",
       "</table>\n",
       "<p>1 rows × 46 columns</p>\n",
       "</div>"
      ],
      "text/plain": [
       "      id versionId               species   dataCategory  \\\n",
       "0  19235     1.0.5  Arabidopsis thaliana  EXPR_REPORTER   \n",
       "\n",
       "                               generalDesc.name  \\\n",
       "0  Role of PRR7 in control of the CCA1 promoter   \n",
       "\n",
       "                                 generalDesc.purpose  \\\n",
       "0  To test whether PRR7 is required for circadian...   \n",
       "\n",
       "                             generalDesc.description  \\\n",
       "0  In previous experiments several clock mutation...   \n",
       "\n",
       "                                generalDesc.comments  \\\n",
       "0  Details are as in Bordage et al (2016) New Phy...   \n",
       "\n",
       "                            contributionDesc.authors  \\\n",
       "0  [{'id': 2627, 'login': 'hnimmo', 'firstName': ...   \n",
       "\n",
       "  contributionDesc.curators  ... bioSummary.growthStages bioSummary.tagTypes  \\\n",
       "0                        []  ...                      []                  []   \n",
       "\n",
       "  bioSummary.materialTypes bioSummary.materialOrigins bioSummary.customTags  \\\n",
       "0                       []                         []                    []   \n",
       "\n",
       "  bioSummary.externalIds                    provenance.created  \\\n",
       "0                     []  [2021, 5, 20, 11, 40, 29, 435610000]   \n",
       "\n",
       "  provenance.createdBy                  provenance.modified  \\\n",
       "0           Hugh Nimmo  [2021, 9, 22, 10, 12, 6, 894984951]   \n",
       "\n",
       "   provenance.modifiedBy  \n",
       "0             Hugh Nimmo  \n",
       "\n",
       "[1 rows x 46 columns]"
      ]
     },
     "execution_count": 5,
     "metadata": {},
     "output_type": "execute_result"
    }
   ],
   "source": [
    "df"
   ]
  },
  {
   "cell_type": "code",
   "execution_count": 24,
   "id": "836d0707",
   "metadata": {},
   "outputs": [
    {
     "data": {
      "text/plain": [
       "0    [{'id': 2627, 'login': 'hnimmo', 'firstName': ...\n",
       "Name: contributionDesc.authors, dtype: object"
      ]
     },
     "execution_count": 24,
     "metadata": {},
     "output_type": "execute_result"
    }
   ],
   "source": [
    "df['contributionDesc.authors']"
   ]
  },
  {
   "cell_type": "code",
   "execution_count": 10,
   "id": "b34b985d",
   "metadata": {},
   "outputs": [],
   "source": [
    "test = json.dumps(data)"
   ]
  },
  {
   "cell_type": "code",
   "execution_count": 11,
   "id": "a1df22b7",
   "metadata": {},
   "outputs": [
    {
     "data": {
      "text/plain": [
       "'{\"id\": 17264, \"versionId\": \"52.0.5\", \"generalDesc\": {\"name\": \"CCA1:LUC\", \"purpose\": \"Analysis CCA1:LUC period and amplitude changes. 111111111\", \"description\": null, \"comments\": null}, \"contributionDesc\": {\"authors\": [{\"id\": null, \"login\": null, \"firstName\": \"Flash\", \"lastName\": \"Light\", \"ORCID\": null}], \"curators\": [], \"institutions\": [{\"name\": \"University of Edinburgh\", \"longName\": \"University of Edinburgh\"}], \"fundings\": []}, \"experimentalDetails\": {\"measurementDesc\": {\"technique\": \"Luciferase luminescence\", \"equipment\": null, \"description\": null, \"parameters\": []}, \"growthEnvironments\": {\"environments\": []}, \"experimentalEnvironments\": {\"environments\": []}, \"executionDate\": [2020, 9, 11]}, \"characteristic\": {\"hasAttachments\": true, \"hasTSData\": true, \"hasPPAJobs\": true, \"hasDataFiles\": true, \"attachmentsSize\": 2, \"biodare1Id\": 0, \"isOpenAccess\": true, \"licence\": \"CC_BY\", \"hasRhythmicityJobs\": true}, \"bioDescription\": {\"bios\": []}, \"bioSummary\": {\"dataCategories\": [], \"labels\": [], \"species\": [], \"ecotypes\": [], \"genotypes\": [], \"markers\": [], \"lines\": [], \"growthStages\": [], \"tagTypes\": [], \"materialTypes\": [], \"materialOrigins\": [], \"customTags\": [], \"externalIds\": []}, \"species\": \"Arabidopsis thaliana\", \"dataCategory\": \"EXPR_REPORTER\", \"provenance\": {\"created\": [2020, 9, 11, 20, 24, 51, 845822000], \"createdBy\": \"Sergio Gil\", \"modified\": [2023, 2, 11, 1, 15, 14, 35289364], \"modifiedBy\": \"Sergio Gil\"}}'"
      ]
     },
     "execution_count": 11,
     "metadata": {},
     "output_type": "execute_result"
    }
   ],
   "source": [
    "test"
   ]
  },
  {
   "cell_type": "code",
   "execution_count": 15,
   "id": "13869c00",
   "metadata": {},
   "outputs": [],
   "source": [
    "data_dict = json.loads(test)"
   ]
  },
  {
   "cell_type": "code",
   "execution_count": 16,
   "id": "30afccea",
   "metadata": {},
   "outputs": [],
   "source": [
    "df = pd.json_normalize(data_dict)\n"
   ]
  },
  {
   "cell_type": "code",
   "execution_count": 17,
   "id": "aa5755b8",
   "metadata": {},
   "outputs": [
    {
     "data": {
      "text/html": [
       "<div>\n",
       "<style scoped>\n",
       "    .dataframe tbody tr th:only-of-type {\n",
       "        vertical-align: middle;\n",
       "    }\n",
       "\n",
       "    .dataframe tbody tr th {\n",
       "        vertical-align: top;\n",
       "    }\n",
       "\n",
       "    .dataframe thead th {\n",
       "        text-align: right;\n",
       "    }\n",
       "</style>\n",
       "<table border=\"1\" class=\"dataframe\">\n",
       "  <thead>\n",
       "    <tr style=\"text-align: right;\">\n",
       "      <th></th>\n",
       "      <th>id</th>\n",
       "      <th>versionId</th>\n",
       "      <th>species</th>\n",
       "      <th>dataCategory</th>\n",
       "      <th>generalDesc.name</th>\n",
       "      <th>generalDesc.purpose</th>\n",
       "      <th>generalDesc.description</th>\n",
       "      <th>generalDesc.comments</th>\n",
       "      <th>contributionDesc.authors</th>\n",
       "      <th>contributionDesc.curators</th>\n",
       "      <th>...</th>\n",
       "      <th>bioSummary.growthStages</th>\n",
       "      <th>bioSummary.tagTypes</th>\n",
       "      <th>bioSummary.materialTypes</th>\n",
       "      <th>bioSummary.materialOrigins</th>\n",
       "      <th>bioSummary.customTags</th>\n",
       "      <th>bioSummary.externalIds</th>\n",
       "      <th>provenance.created</th>\n",
       "      <th>provenance.createdBy</th>\n",
       "      <th>provenance.modified</th>\n",
       "      <th>provenance.modifiedBy</th>\n",
       "    </tr>\n",
       "  </thead>\n",
       "  <tbody>\n",
       "    <tr>\n",
       "      <th>0</th>\n",
       "      <td>17264</td>\n",
       "      <td>52.0.5</td>\n",
       "      <td>Arabidopsis thaliana</td>\n",
       "      <td>EXPR_REPORTER</td>\n",
       "      <td>CCA1:LUC</td>\n",
       "      <td>Analysis CCA1:LUC period and amplitude changes...</td>\n",
       "      <td>None</td>\n",
       "      <td>None</td>\n",
       "      <td>[{'id': None, 'login': None, 'firstName': 'Fla...</td>\n",
       "      <td>[]</td>\n",
       "      <td>...</td>\n",
       "      <td>[]</td>\n",
       "      <td>[]</td>\n",
       "      <td>[]</td>\n",
       "      <td>[]</td>\n",
       "      <td>[]</td>\n",
       "      <td>[]</td>\n",
       "      <td>[2020, 9, 11, 20, 24, 51, 845822000]</td>\n",
       "      <td>Sergio Gil</td>\n",
       "      <td>[2023, 2, 11, 1, 15, 14, 35289364]</td>\n",
       "      <td>Sergio Gil</td>\n",
       "    </tr>\n",
       "  </tbody>\n",
       "</table>\n",
       "<p>1 rows × 46 columns</p>\n",
       "</div>"
      ],
      "text/plain": [
       "      id versionId               species   dataCategory generalDesc.name  \\\n",
       "0  17264    52.0.5  Arabidopsis thaliana  EXPR_REPORTER         CCA1:LUC   \n",
       "\n",
       "                                 generalDesc.purpose generalDesc.description  \\\n",
       "0  Analysis CCA1:LUC period and amplitude changes...                    None   \n",
       "\n",
       "  generalDesc.comments                           contributionDesc.authors  \\\n",
       "0                 None  [{'id': None, 'login': None, 'firstName': 'Fla...   \n",
       "\n",
       "  contributionDesc.curators  ... bioSummary.growthStages bioSummary.tagTypes  \\\n",
       "0                        []  ...                      []                  []   \n",
       "\n",
       "  bioSummary.materialTypes bioSummary.materialOrigins bioSummary.customTags  \\\n",
       "0                       []                         []                    []   \n",
       "\n",
       "  bioSummary.externalIds                    provenance.created  \\\n",
       "0                     []  [2020, 9, 11, 20, 24, 51, 845822000]   \n",
       "\n",
       "  provenance.createdBy                 provenance.modified  \\\n",
       "0           Sergio Gil  [2023, 2, 11, 1, 15, 14, 35289364]   \n",
       "\n",
       "   provenance.modifiedBy  \n",
       "0             Sergio Gil  \n",
       "\n",
       "[1 rows x 46 columns]"
      ]
     },
     "execution_count": 17,
     "metadata": {},
     "output_type": "execute_result"
    }
   ],
   "source": [
    "df"
   ]
  },
  {
   "cell_type": "markdown",
   "id": "4e7a46c4",
   "metadata": {},
   "source": [
    "#### New try"
   ]
  },
  {
   "cell_type": "code",
   "execution_count": 51,
   "id": "9eb3af6e",
   "metadata": {},
   "outputs": [],
   "source": [
    "file = open('19235.json')"
   ]
  },
  {
   "cell_type": "code",
   "execution_count": 52,
   "id": "3d878468",
   "metadata": {},
   "outputs": [],
   "source": [
    "data = json.load(file)"
   ]
  },
  {
   "cell_type": "code",
   "execution_count": 53,
   "id": "c19b6eb3",
   "metadata": {
    "scrolled": true
   },
   "outputs": [
    {
     "data": {
      "text/plain": [
       "{'id': 19235,\n",
       " 'versionId': '1.0.5',\n",
       " 'generalDesc': {'name': 'Role of PRR7 in control of the CCA1 promoter',\n",
       "  'purpose': 'To test whether PRR7 is required for circadian input to the CCA1 promoter in shoots and roots',\n",
       "  'description': 'In previous experiments several clock mutations were found to have different effects on shoots and roots. In these experiments mature prr7-3 plants expressing CCA1::LUC were grown on vertical agar plates as described previously. LUC activity in shoots and roots was monitored over 2 full days in LD cycles (12:12) followed by 4 days in LL.',\n",
       "  'comments': 'Details are as in Bordage et al (2016) New Phytol. 212, 136-149'},\n",
       " 'contributionDesc': {'authors': [{'id': 2627,\n",
       "    'login': 'hnimmo',\n",
       "    'firstName': 'Hugh',\n",
       "    'lastName': 'Nimmo',\n",
       "    'ORCID': None}],\n",
       "  'curators': [],\n",
       "  'institutions': [{'name': 'University of Glasgow',\n",
       "    'longName': 'University of Glasgow'}],\n",
       "  'fundings': [{'institution': {'name': 'BBSRC'}, 'grantNr': 'BB/K006835/1'}]},\n",
       " 'experimentalDetails': {'measurementDesc': {'technique': 'Luciferase luminescence',\n",
       "   'equipment': 'Photek 225/18 CCD camera',\n",
       "   'description': 'Mature plants were on square vertical agar plates at 20°C with shoot and root compartments separated and images recorded as in Bordage et al 2016. Plants were sprayed with luciferin 15 h before the start of data collection. Images were recorded every 1.5 h for 2 days in LD and 4 days in LL.',\n",
       "   'parameters': []},\n",
       "  'growthEnvironments': {'environments': []},\n",
       "  'experimentalEnvironments': {'environments': []},\n",
       "  'executionDate': [2021, 5, 20]},\n",
       " 'characteristic': {'hasAttachments': False,\n",
       "  'hasTSData': True,\n",
       "  'hasPPAJobs': True,\n",
       "  'hasDataFiles': True,\n",
       "  'attachmentsSize': 0,\n",
       "  'biodare1Id': 0,\n",
       "  'isOpenAccess': True,\n",
       "  'licence': 'CC_BY',\n",
       "  'hasRhythmicityJobs': False},\n",
       " 'bioDescription': {'bios': []},\n",
       " 'bioSummary': {'dataCategories': [],\n",
       "  'labels': [],\n",
       "  'species': [],\n",
       "  'ecotypes': [],\n",
       "  'genotypes': [],\n",
       "  'markers': [],\n",
       "  'lines': [],\n",
       "  'growthStages': [],\n",
       "  'tagTypes': [],\n",
       "  'materialTypes': [],\n",
       "  'materialOrigins': [],\n",
       "  'customTags': [],\n",
       "  'externalIds': []},\n",
       " 'species': 'Arabidopsis thaliana',\n",
       " 'dataCategory': 'EXPR_REPORTER',\n",
       " 'provenance': {'created': [2021, 5, 20, 11, 40, 29, 435610000],\n",
       "  'createdBy': 'Hugh Nimmo',\n",
       "  'modified': [2021, 9, 22, 10, 12, 6, 894984951],\n",
       "  'modifiedBy': 'Hugh Nimmo'}}"
      ]
     },
     "execution_count": 53,
     "metadata": {},
     "output_type": "execute_result"
    }
   ],
   "source": [
    "data"
   ]
  },
  {
   "cell_type": "code",
   "execution_count": 13,
   "id": "c0e4edea",
   "metadata": {},
   "outputs": [
    {
     "data": {
      "text/plain": [
       "19235"
      ]
     },
     "execution_count": 13,
     "metadata": {},
     "output_type": "execute_result"
    }
   ],
   "source": [
    "data['id']"
   ]
  },
  {
   "cell_type": "code",
   "execution_count": 23,
   "id": "12513dff",
   "metadata": {},
   "outputs": [
    {
     "data": {
      "text/plain": [
       "{'authors': [{'id': 2627,\n",
       "   'login': 'hnimmo',\n",
       "   'firstName': 'Hugh',\n",
       "   'lastName': 'Nimmo',\n",
       "   'ORCID': None}],\n",
       " 'curators': [],\n",
       " 'institutions': [{'name': 'University of Glasgow',\n",
       "   'longName': 'University of Glasgow'}],\n",
       " 'fundings': [{'institution': {'name': 'BBSRC'}, 'grantNr': 'BB/K006835/1'}]}"
      ]
     },
     "execution_count": 23,
     "metadata": {},
     "output_type": "execute_result"
    }
   ],
   "source": [
    "data['contributionDesc']"
   ]
  },
  {
   "cell_type": "code",
   "execution_count": 20,
   "id": "cef84519",
   "metadata": {},
   "outputs": [
    {
     "data": {
      "text/plain": [
       "{'name': 'Role of PRR7 in control of the CCA1 promoter',\n",
       " 'purpose': 'To test whether PRR7 is required for circadian input to the CCA1 promoter in shoots and roots',\n",
       " 'description': 'In previous experiments several clock mutations were found to have different effects on shoots and roots. In these experiments mature prr7-3 plants expressing CCA1::LUC were grown on vertical agar plates as described previously. LUC activity in shoots and roots was monitored over 2 full days in LD cycles (12:12) followed by 4 days in LL.',\n",
       " 'comments': 'Details are as in Bordage et al (2016) New Phytol. 212, 136-149'}"
      ]
     },
     "execution_count": 20,
     "metadata": {},
     "output_type": "execute_result"
    }
   ],
   "source": [
    "data['generalDesc']"
   ]
  },
  {
   "cell_type": "code",
   "execution_count": 21,
   "id": "03950158",
   "metadata": {},
   "outputs": [],
   "source": [
    "df = pd.json_normalize(data['generalDesc'],\n",
    "                      meta=['name','purpose','description','comments'])"
   ]
  },
  {
   "cell_type": "code",
   "execution_count": 22,
   "id": "dcafe28b",
   "metadata": {},
   "outputs": [
    {
     "data": {
      "text/html": [
       "<div>\n",
       "<style scoped>\n",
       "    .dataframe tbody tr th:only-of-type {\n",
       "        vertical-align: middle;\n",
       "    }\n",
       "\n",
       "    .dataframe tbody tr th {\n",
       "        vertical-align: top;\n",
       "    }\n",
       "\n",
       "    .dataframe thead th {\n",
       "        text-align: right;\n",
       "    }\n",
       "</style>\n",
       "<table border=\"1\" class=\"dataframe\">\n",
       "  <thead>\n",
       "    <tr style=\"text-align: right;\">\n",
       "      <th></th>\n",
       "      <th>name</th>\n",
       "      <th>purpose</th>\n",
       "      <th>description</th>\n",
       "      <th>comments</th>\n",
       "    </tr>\n",
       "  </thead>\n",
       "  <tbody>\n",
       "    <tr>\n",
       "      <th>0</th>\n",
       "      <td>Role of PRR7 in control of the CCA1 promoter</td>\n",
       "      <td>To test whether PRR7 is required for circadian...</td>\n",
       "      <td>In previous experiments several clock mutation...</td>\n",
       "      <td>Details are as in Bordage et al (2016) New Phy...</td>\n",
       "    </tr>\n",
       "  </tbody>\n",
       "</table>\n",
       "</div>"
      ],
      "text/plain": [
       "                                           name  \\\n",
       "0  Role of PRR7 in control of the CCA1 promoter   \n",
       "\n",
       "                                             purpose  \\\n",
       "0  To test whether PRR7 is required for circadian...   \n",
       "\n",
       "                                         description  \\\n",
       "0  In previous experiments several clock mutation...   \n",
       "\n",
       "                                            comments  \n",
       "0  Details are as in Bordage et al (2016) New Phy...  "
      ]
     },
     "execution_count": 22,
     "metadata": {},
     "output_type": "execute_result"
    }
   ],
   "source": [
    "df"
   ]
  },
  {
   "cell_type": "code",
   "execution_count": 57,
   "id": "a9887972",
   "metadata": {},
   "outputs": [
    {
     "data": {
      "text/plain": [
       "dict"
      ]
     },
     "execution_count": 57,
     "metadata": {},
     "output_type": "execute_result"
    }
   ],
   "source": [
    "type(data['contributionDesc'])"
   ]
  },
  {
   "cell_type": "code",
   "execution_count": 58,
   "id": "74e51688",
   "metadata": {},
   "outputs": [
    {
     "data": {
      "text/plain": [
       "dict_items([('authors', [{'id': 2627, 'login': 'hnimmo', 'firstName': 'Hugh', 'lastName': 'Nimmo', 'ORCID': None}]), ('curators', []), ('institutions', [{'name': 'University of Glasgow', 'longName': 'University of Glasgow'}]), ('fundings', [{'institution': {'name': 'BBSRC'}, 'grantNr': 'BB/K006835/1'}])])"
      ]
     },
     "execution_count": 58,
     "metadata": {},
     "output_type": "execute_result"
    }
   ],
   "source": [
    "data['contributionDesc'].items()"
   ]
  },
  {
   "cell_type": "code",
   "execution_count": 59,
   "id": "77056303",
   "metadata": {},
   "outputs": [
    {
     "data": {
      "text/plain": [
       "[{'id': 2627,\n",
       "  'login': 'hnimmo',\n",
       "  'firstName': 'Hugh',\n",
       "  'lastName': 'Nimmo',\n",
       "  'ORCID': None}]"
      ]
     },
     "execution_count": 59,
     "metadata": {},
     "output_type": "execute_result"
    }
   ],
   "source": [
    "data['contributionDesc']['authors']"
   ]
  },
  {
   "cell_type": "code",
   "execution_count": 60,
   "id": "381d203c",
   "metadata": {},
   "outputs": [],
   "source": [
    "df2 = pd.json_normalize(data['contributionDesc']['authors'],\n",
    "                      meta=['id','login','firstName','lastName','ORCID'])"
   ]
  },
  {
   "cell_type": "code",
   "execution_count": 62,
   "id": "ea8141da",
   "metadata": {},
   "outputs": [],
   "source": [
    "df_new = df2.rename(columns={'id': 'author_id','login': 'author_login','firstName':'author_firstName',\n",
    "                            'lastName':'author_lastName','ORCID':'author_ORCID'})"
   ]
  },
  {
   "cell_type": "code",
   "execution_count": 63,
   "id": "9ef436fa",
   "metadata": {},
   "outputs": [
    {
     "data": {
      "text/html": [
       "<div>\n",
       "<style scoped>\n",
       "    .dataframe tbody tr th:only-of-type {\n",
       "        vertical-align: middle;\n",
       "    }\n",
       "\n",
       "    .dataframe tbody tr th {\n",
       "        vertical-align: top;\n",
       "    }\n",
       "\n",
       "    .dataframe thead th {\n",
       "        text-align: right;\n",
       "    }\n",
       "</style>\n",
       "<table border=\"1\" class=\"dataframe\">\n",
       "  <thead>\n",
       "    <tr style=\"text-align: right;\">\n",
       "      <th></th>\n",
       "      <th>author_id</th>\n",
       "      <th>author_login</th>\n",
       "      <th>author_firstName</th>\n",
       "      <th>author_lastName</th>\n",
       "      <th>author_ORCID</th>\n",
       "    </tr>\n",
       "  </thead>\n",
       "  <tbody>\n",
       "    <tr>\n",
       "      <th>0</th>\n",
       "      <td>2627</td>\n",
       "      <td>hnimmo</td>\n",
       "      <td>Hugh</td>\n",
       "      <td>Nimmo</td>\n",
       "      <td>None</td>\n",
       "    </tr>\n",
       "  </tbody>\n",
       "</table>\n",
       "</div>"
      ],
      "text/plain": [
       "   author_id author_login author_firstName author_lastName author_ORCID\n",
       "0       2627       hnimmo             Hugh           Nimmo         None"
      ]
     },
     "execution_count": 63,
     "metadata": {},
     "output_type": "execute_result"
    }
   ],
   "source": [
    "df_new"
   ]
  },
  {
   "cell_type": "code",
   "execution_count": 16,
   "id": "09e463f8",
   "metadata": {
    "collapsed": true
   },
   "outputs": [
    {
     "name": "stdout",
     "output_type": "stream",
     "text": [
      "Help on function json_normalize in module pandas.io.json._normalize:\n",
      "\n",
      "json_normalize(data: 'dict | list[dict]', record_path: 'str | list | None' = None, meta: 'str | list[str | list[str]] | None' = None, meta_prefix: 'str | None' = None, record_prefix: 'str | None' = None, errors: 'IgnoreRaise' = 'raise', sep: 'str' = '.', max_level: 'int | None' = None) -> 'DataFrame'\n",
      "    Normalize semi-structured JSON data into a flat table.\n",
      "    \n",
      "    Parameters\n",
      "    ----------\n",
      "    data : dict or list of dicts\n",
      "        Unserialized JSON objects.\n",
      "    record_path : str or list of str, default None\n",
      "        Path in each object to list of records. If not passed, data will be\n",
      "        assumed to be an array of records.\n",
      "    meta : list of paths (str or list of str), default None\n",
      "        Fields to use as metadata for each record in resulting table.\n",
      "    meta_prefix : str, default None\n",
      "        If True, prefix records with dotted (?) path, e.g. foo.bar.field if\n",
      "        meta is ['foo', 'bar'].\n",
      "    record_prefix : str, default None\n",
      "        If True, prefix records with dotted (?) path, e.g. foo.bar.field if\n",
      "        path to records is ['foo', 'bar'].\n",
      "    errors : {'raise', 'ignore'}, default 'raise'\n",
      "        Configures error handling.\n",
      "    \n",
      "        * 'ignore' : will ignore KeyError if keys listed in meta are not\n",
      "          always present.\n",
      "        * 'raise' : will raise KeyError if keys listed in meta are not\n",
      "          always present.\n",
      "    sep : str, default '.'\n",
      "        Nested records will generate names separated by sep.\n",
      "        e.g., for sep='.', {'foo': {'bar': 0}} -> foo.bar.\n",
      "    max_level : int, default None\n",
      "        Max number of levels(depth of dict) to normalize.\n",
      "        if None, normalizes all levels.\n",
      "    \n",
      "    Returns\n",
      "    -------\n",
      "    frame : DataFrame\n",
      "    Normalize semi-structured JSON data into a flat table.\n",
      "    \n",
      "    Examples\n",
      "    --------\n",
      "    >>> data = [\n",
      "    ...     {\"id\": 1, \"name\": {\"first\": \"Coleen\", \"last\": \"Volk\"}},\n",
      "    ...     {\"name\": {\"given\": \"Mark\", \"family\": \"Regner\"}},\n",
      "    ...     {\"id\": 2, \"name\": \"Faye Raker\"},\n",
      "    ... ]\n",
      "    >>> pd.json_normalize(data)\n",
      "        id name.first name.last name.given name.family        name\n",
      "    0  1.0     Coleen      Volk        NaN         NaN         NaN\n",
      "    1  NaN        NaN       NaN       Mark      Regner         NaN\n",
      "    2  2.0        NaN       NaN        NaN         NaN  Faye Raker\n",
      "    \n",
      "    >>> data = [\n",
      "    ...     {\n",
      "    ...         \"id\": 1,\n",
      "    ...         \"name\": \"Cole Volk\",\n",
      "    ...         \"fitness\": {\"height\": 130, \"weight\": 60},\n",
      "    ...     },\n",
      "    ...     {\"name\": \"Mark Reg\", \"fitness\": {\"height\": 130, \"weight\": 60}},\n",
      "    ...     {\n",
      "    ...         \"id\": 2,\n",
      "    ...         \"name\": \"Faye Raker\",\n",
      "    ...         \"fitness\": {\"height\": 130, \"weight\": 60},\n",
      "    ...     },\n",
      "    ... ]\n",
      "    >>> pd.json_normalize(data, max_level=0)\n",
      "        id        name                        fitness\n",
      "    0  1.0   Cole Volk  {'height': 130, 'weight': 60}\n",
      "    1  NaN    Mark Reg  {'height': 130, 'weight': 60}\n",
      "    2  2.0  Faye Raker  {'height': 130, 'weight': 60}\n",
      "    \n",
      "    Normalizes nested data up to level 1.\n",
      "    \n",
      "    >>> data = [\n",
      "    ...     {\n",
      "    ...         \"id\": 1,\n",
      "    ...         \"name\": \"Cole Volk\",\n",
      "    ...         \"fitness\": {\"height\": 130, \"weight\": 60},\n",
      "    ...     },\n",
      "    ...     {\"name\": \"Mark Reg\", \"fitness\": {\"height\": 130, \"weight\": 60}},\n",
      "    ...     {\n",
      "    ...         \"id\": 2,\n",
      "    ...         \"name\": \"Faye Raker\",\n",
      "    ...         \"fitness\": {\"height\": 130, \"weight\": 60},\n",
      "    ...     },\n",
      "    ... ]\n",
      "    >>> pd.json_normalize(data, max_level=1)\n",
      "        id        name  fitness.height  fitness.weight\n",
      "    0  1.0   Cole Volk             130              60\n",
      "    1  NaN    Mark Reg             130              60\n",
      "    2  2.0  Faye Raker             130              60\n",
      "    \n",
      "    >>> data = [\n",
      "    ...     {\n",
      "    ...         \"state\": \"Florida\",\n",
      "    ...         \"shortname\": \"FL\",\n",
      "    ...         \"info\": {\"governor\": \"Rick Scott\"},\n",
      "    ...         \"counties\": [\n",
      "    ...             {\"name\": \"Dade\", \"population\": 12345},\n",
      "    ...             {\"name\": \"Broward\", \"population\": 40000},\n",
      "    ...             {\"name\": \"Palm Beach\", \"population\": 60000},\n",
      "    ...         ],\n",
      "    ...     },\n",
      "    ...     {\n",
      "    ...         \"state\": \"Ohio\",\n",
      "    ...         \"shortname\": \"OH\",\n",
      "    ...         \"info\": {\"governor\": \"John Kasich\"},\n",
      "    ...         \"counties\": [\n",
      "    ...             {\"name\": \"Summit\", \"population\": 1234},\n",
      "    ...             {\"name\": \"Cuyahoga\", \"population\": 1337},\n",
      "    ...         ],\n",
      "    ...     },\n",
      "    ... ]\n",
      "    >>> result = pd.json_normalize(\n",
      "    ...     data, \"counties\", [\"state\", \"shortname\", [\"info\", \"governor\"]]\n",
      "    ... )\n",
      "    >>> result\n",
      "             name  population    state shortname info.governor\n",
      "    0        Dade       12345   Florida    FL    Rick Scott\n",
      "    1     Broward       40000   Florida    FL    Rick Scott\n",
      "    2  Palm Beach       60000   Florida    FL    Rick Scott\n",
      "    3      Summit        1234   Ohio       OH    John Kasich\n",
      "    4    Cuyahoga        1337   Ohio       OH    John Kasich\n",
      "    \n",
      "    >>> data = {\"A\": [1, 2]}\n",
      "    >>> pd.json_normalize(data, \"A\", record_prefix=\"Prefix.\")\n",
      "        Prefix.0\n",
      "    0          1\n",
      "    1          2\n",
      "    \n",
      "    Returns normalized data with columns prefixed with the given string.\n",
      "\n"
     ]
    }
   ],
   "source": [
    "help(pd.json_normalize)"
   ]
  },
  {
   "cell_type": "code",
   "execution_count": 68,
   "id": "656ab5be",
   "metadata": {},
   "outputs": [],
   "source": [
    "df_join = pd.merge(df,df_new,left_index=True, right_index=True, how='inner')"
   ]
  },
  {
   "cell_type": "code",
   "execution_count": 69,
   "id": "f28d01d0",
   "metadata": {},
   "outputs": [
    {
     "data": {
      "text/html": [
       "<div>\n",
       "<style scoped>\n",
       "    .dataframe tbody tr th:only-of-type {\n",
       "        vertical-align: middle;\n",
       "    }\n",
       "\n",
       "    .dataframe tbody tr th {\n",
       "        vertical-align: top;\n",
       "    }\n",
       "\n",
       "    .dataframe thead th {\n",
       "        text-align: right;\n",
       "    }\n",
       "</style>\n",
       "<table border=\"1\" class=\"dataframe\">\n",
       "  <thead>\n",
       "    <tr style=\"text-align: right;\">\n",
       "      <th></th>\n",
       "      <th>name</th>\n",
       "      <th>purpose</th>\n",
       "      <th>description</th>\n",
       "      <th>comments</th>\n",
       "      <th>author_id</th>\n",
       "      <th>author_login</th>\n",
       "      <th>author_firstName</th>\n",
       "      <th>author_lastName</th>\n",
       "      <th>author_ORCID</th>\n",
       "    </tr>\n",
       "  </thead>\n",
       "  <tbody>\n",
       "    <tr>\n",
       "      <th>0</th>\n",
       "      <td>Role of PRR7 in control of the CCA1 promoter</td>\n",
       "      <td>To test whether PRR7 is required for circadian...</td>\n",
       "      <td>In previous experiments several clock mutation...</td>\n",
       "      <td>Details are as in Bordage et al (2016) New Phy...</td>\n",
       "      <td>2627</td>\n",
       "      <td>hnimmo</td>\n",
       "      <td>Hugh</td>\n",
       "      <td>Nimmo</td>\n",
       "      <td>None</td>\n",
       "    </tr>\n",
       "  </tbody>\n",
       "</table>\n",
       "</div>"
      ],
      "text/plain": [
       "                                           name  \\\n",
       "0  Role of PRR7 in control of the CCA1 promoter   \n",
       "\n",
       "                                             purpose  \\\n",
       "0  To test whether PRR7 is required for circadian...   \n",
       "\n",
       "                                         description  \\\n",
       "0  In previous experiments several clock mutation...   \n",
       "\n",
       "                                            comments  author_id author_login  \\\n",
       "0  Details are as in Bordage et al (2016) New Phy...       2627       hnimmo   \n",
       "\n",
       "  author_firstName author_lastName author_ORCID  \n",
       "0             Hugh           Nimmo         None  "
      ]
     },
     "execution_count": 69,
     "metadata": {},
     "output_type": "execute_result"
    }
   ],
   "source": [
    "df_join"
   ]
  },
  {
   "cell_type": "code",
   "execution_count": 66,
   "id": "da7cbe29",
   "metadata": {
    "collapsed": true
   },
   "outputs": [
    {
     "name": "stdout",
     "output_type": "stream",
     "text": [
      "Help on function merge in module pandas.core.reshape.merge:\n",
      "\n",
      "merge(left: 'DataFrame | Series', right: 'DataFrame | Series', how: 'MergeHow' = 'inner', on: 'IndexLabel | None' = None, left_on: 'IndexLabel | None' = None, right_on: 'IndexLabel | None' = None, left_index: 'bool' = False, right_index: 'bool' = False, sort: 'bool' = False, suffixes: 'Suffixes' = ('_x', '_y'), copy: 'bool | None' = None, indicator: 'str | bool' = False, validate: 'str | None' = None) -> 'DataFrame'\n",
      "    Merge DataFrame or named Series objects with a database-style join.\n",
      "    \n",
      "    A named Series object is treated as a DataFrame with a single named column.\n",
      "    \n",
      "    The join is done on columns or indexes. If joining columns on\n",
      "    columns, the DataFrame indexes *will be ignored*. Otherwise if joining indexes\n",
      "    on indexes or indexes on a column or columns, the index will be passed on.\n",
      "    When performing a cross merge, no column specifications to merge on are\n",
      "    allowed.\n",
      "    \n",
      "    .. warning::\n",
      "    \n",
      "        If both key columns contain rows where the key is a null value, those\n",
      "        rows will be matched against each other. This is different from usual SQL\n",
      "        join behaviour and can lead to unexpected results.\n",
      "    \n",
      "    Parameters\n",
      "    ----------\n",
      "    left : DataFrame or named Series\n",
      "    right : DataFrame or named Series\n",
      "        Object to merge with.\n",
      "    how : {'left', 'right', 'outer', 'inner', 'cross'}, default 'inner'\n",
      "        Type of merge to be performed.\n",
      "    \n",
      "        * left: use only keys from left frame, similar to a SQL left outer join;\n",
      "          preserve key order.\n",
      "        * right: use only keys from right frame, similar to a SQL right outer join;\n",
      "          preserve key order.\n",
      "        * outer: use union of keys from both frames, similar to a SQL full outer\n",
      "          join; sort keys lexicographically.\n",
      "        * inner: use intersection of keys from both frames, similar to a SQL inner\n",
      "          join; preserve the order of the left keys.\n",
      "        * cross: creates the cartesian product from both frames, preserves the order\n",
      "          of the left keys.\n",
      "    \n",
      "          .. versionadded:: 1.2.0\n",
      "    \n",
      "    on : label or list\n",
      "        Column or index level names to join on. These must be found in both\n",
      "        DataFrames. If `on` is None and not merging on indexes then this defaults\n",
      "        to the intersection of the columns in both DataFrames.\n",
      "    left_on : label or list, or array-like\n",
      "        Column or index level names to join on in the left DataFrame. Can also\n",
      "        be an array or list of arrays of the length of the left DataFrame.\n",
      "        These arrays are treated as if they are columns.\n",
      "    right_on : label or list, or array-like\n",
      "        Column or index level names to join on in the right DataFrame. Can also\n",
      "        be an array or list of arrays of the length of the right DataFrame.\n",
      "        These arrays are treated as if they are columns.\n",
      "    left_index : bool, default False\n",
      "        Use the index from the left DataFrame as the join key(s). If it is a\n",
      "        MultiIndex, the number of keys in the other DataFrame (either the index\n",
      "        or a number of columns) must match the number of levels.\n",
      "    right_index : bool, default False\n",
      "        Use the index from the right DataFrame as the join key. Same caveats as\n",
      "        left_index.\n",
      "    sort : bool, default False\n",
      "        Sort the join keys lexicographically in the result DataFrame. If False,\n",
      "        the order of the join keys depends on the join type (how keyword).\n",
      "    suffixes : list-like, default is (\"_x\", \"_y\")\n",
      "        A length-2 sequence where each element is optionally a string\n",
      "        indicating the suffix to add to overlapping column names in\n",
      "        `left` and `right` respectively. Pass a value of `None` instead\n",
      "        of a string to indicate that the column name from `left` or\n",
      "        `right` should be left as-is, with no suffix. At least one of the\n",
      "        values must not be None.\n",
      "    copy : bool, default True\n",
      "        If False, avoid copy if possible.\n",
      "    indicator : bool or str, default False\n",
      "        If True, adds a column to the output DataFrame called \"_merge\" with\n",
      "        information on the source of each row. The column can be given a different\n",
      "        name by providing a string argument. The column will have a Categorical\n",
      "        type with the value of \"left_only\" for observations whose merge key only\n",
      "        appears in the left DataFrame, \"right_only\" for observations\n",
      "        whose merge key only appears in the right DataFrame, and \"both\"\n",
      "        if the observation's merge key is found in both DataFrames.\n",
      "    \n",
      "    validate : str, optional\n",
      "        If specified, checks if merge is of specified type.\n",
      "    \n",
      "        * \"one_to_one\" or \"1:1\": check if merge keys are unique in both\n",
      "          left and right datasets.\n",
      "        * \"one_to_many\" or \"1:m\": check if merge keys are unique in left\n",
      "          dataset.\n",
      "        * \"many_to_one\" or \"m:1\": check if merge keys are unique in right\n",
      "          dataset.\n",
      "        * \"many_to_many\" or \"m:m\": allowed, but does not result in checks.\n",
      "    \n",
      "    Returns\n",
      "    -------\n",
      "    DataFrame\n",
      "        A DataFrame of the two merged objects.\n",
      "    \n",
      "    See Also\n",
      "    --------\n",
      "    merge_ordered : Merge with optional filling/interpolation.\n",
      "    merge_asof : Merge on nearest keys.\n",
      "    DataFrame.join : Similar method using indices.\n",
      "    \n",
      "    Notes\n",
      "    -----\n",
      "    Support for specifying index levels as the `on`, `left_on`, and\n",
      "    `right_on` parameters was added in version 0.23.0\n",
      "    Support for merging named Series objects was added in version 0.24.0\n",
      "    \n",
      "    Examples\n",
      "    --------\n",
      "    >>> df1 = pd.DataFrame({'lkey': ['foo', 'bar', 'baz', 'foo'],\n",
      "    ...                     'value': [1, 2, 3, 5]})\n",
      "    >>> df2 = pd.DataFrame({'rkey': ['foo', 'bar', 'baz', 'foo'],\n",
      "    ...                     'value': [5, 6, 7, 8]})\n",
      "    >>> df1\n",
      "        lkey value\n",
      "    0   foo      1\n",
      "    1   bar      2\n",
      "    2   baz      3\n",
      "    3   foo      5\n",
      "    >>> df2\n",
      "        rkey value\n",
      "    0   foo      5\n",
      "    1   bar      6\n",
      "    2   baz      7\n",
      "    3   foo      8\n",
      "    \n",
      "    Merge df1 and df2 on the lkey and rkey columns. The value columns have\n",
      "    the default suffixes, _x and _y, appended.\n",
      "    \n",
      "    >>> df1.merge(df2, left_on='lkey', right_on='rkey')\n",
      "      lkey  value_x rkey  value_y\n",
      "    0  foo        1  foo        5\n",
      "    1  foo        1  foo        8\n",
      "    2  foo        5  foo        5\n",
      "    3  foo        5  foo        8\n",
      "    4  bar        2  bar        6\n",
      "    5  baz        3  baz        7\n",
      "    \n",
      "    Merge DataFrames df1 and df2 with specified left and right suffixes\n",
      "    appended to any overlapping columns.\n",
      "    \n",
      "    >>> df1.merge(df2, left_on='lkey', right_on='rkey',\n",
      "    ...           suffixes=('_left', '_right'))\n",
      "      lkey  value_left rkey  value_right\n",
      "    0  foo           1  foo            5\n",
      "    1  foo           1  foo            8\n",
      "    2  foo           5  foo            5\n",
      "    3  foo           5  foo            8\n",
      "    4  bar           2  bar            6\n",
      "    5  baz           3  baz            7\n",
      "    \n",
      "    Merge DataFrames df1 and df2, but raise an exception if the DataFrames have\n",
      "    any overlapping columns.\n",
      "    \n",
      "    >>> df1.merge(df2, left_on='lkey', right_on='rkey', suffixes=(False, False))\n",
      "    Traceback (most recent call last):\n",
      "    ...\n",
      "    ValueError: columns overlap but no suffix specified:\n",
      "        Index(['value'], dtype='object')\n",
      "    \n",
      "    >>> df1 = pd.DataFrame({'a': ['foo', 'bar'], 'b': [1, 2]})\n",
      "    >>> df2 = pd.DataFrame({'a': ['foo', 'baz'], 'c': [3, 4]})\n",
      "    >>> df1\n",
      "          a  b\n",
      "    0   foo  1\n",
      "    1   bar  2\n",
      "    >>> df2\n",
      "          a  c\n",
      "    0   foo  3\n",
      "    1   baz  4\n",
      "    \n",
      "    >>> df1.merge(df2, how='inner', on='a')\n",
      "          a  b  c\n",
      "    0   foo  1  3\n",
      "    \n",
      "    >>> df1.merge(df2, how='left', on='a')\n",
      "          a  b  c\n",
      "    0   foo  1  3.0\n",
      "    1   bar  2  NaN\n",
      "    \n",
      "    >>> df1 = pd.DataFrame({'left': ['foo', 'bar']})\n",
      "    >>> df2 = pd.DataFrame({'right': [7, 8]})\n",
      "    >>> df1\n",
      "        left\n",
      "    0   foo\n",
      "    1   bar\n",
      "    >>> df2\n",
      "        right\n",
      "    0   7\n",
      "    1   8\n",
      "    \n",
      "    >>> df1.merge(df2, how='cross')\n",
      "       left  right\n",
      "    0   foo      7\n",
      "    1   foo      8\n",
      "    2   bar      7\n",
      "    3   bar      8\n",
      "\n"
     ]
    }
   ],
   "source": [
    "help(pd.merge)"
   ]
  },
  {
   "cell_type": "code",
   "execution_count": 70,
   "id": "78c83403",
   "metadata": {},
   "outputs": [],
   "source": [
    "df_curators = pd.json_normalize(data['contributionDesc']['curators'])"
   ]
  },
  {
   "cell_type": "code",
   "execution_count": 74,
   "id": "4a6a2a84",
   "metadata": {},
   "outputs": [],
   "source": [
    "data['contributionDesc']['curators'] = None"
   ]
  },
  {
   "cell_type": "code",
   "execution_count": 75,
   "id": "49a0e2ed",
   "metadata": {},
   "outputs": [],
   "source": [
    "df_join['curators'] = data['contributionDesc']['curators']"
   ]
  },
  {
   "cell_type": "code",
   "execution_count": 76,
   "id": "d02788c1",
   "metadata": {},
   "outputs": [
    {
     "data": {
      "text/html": [
       "<div>\n",
       "<style scoped>\n",
       "    .dataframe tbody tr th:only-of-type {\n",
       "        vertical-align: middle;\n",
       "    }\n",
       "\n",
       "    .dataframe tbody tr th {\n",
       "        vertical-align: top;\n",
       "    }\n",
       "\n",
       "    .dataframe thead th {\n",
       "        text-align: right;\n",
       "    }\n",
       "</style>\n",
       "<table border=\"1\" class=\"dataframe\">\n",
       "  <thead>\n",
       "    <tr style=\"text-align: right;\">\n",
       "      <th></th>\n",
       "      <th>name</th>\n",
       "      <th>purpose</th>\n",
       "      <th>description</th>\n",
       "      <th>comments</th>\n",
       "      <th>author_id</th>\n",
       "      <th>author_login</th>\n",
       "      <th>author_firstName</th>\n",
       "      <th>author_lastName</th>\n",
       "      <th>author_ORCID</th>\n",
       "      <th>curators</th>\n",
       "    </tr>\n",
       "  </thead>\n",
       "  <tbody>\n",
       "    <tr>\n",
       "      <th>0</th>\n",
       "      <td>Role of PRR7 in control of the CCA1 promoter</td>\n",
       "      <td>To test whether PRR7 is required for circadian...</td>\n",
       "      <td>In previous experiments several clock mutation...</td>\n",
       "      <td>Details are as in Bordage et al (2016) New Phy...</td>\n",
       "      <td>2627</td>\n",
       "      <td>hnimmo</td>\n",
       "      <td>Hugh</td>\n",
       "      <td>Nimmo</td>\n",
       "      <td>None</td>\n",
       "      <td>None</td>\n",
       "    </tr>\n",
       "  </tbody>\n",
       "</table>\n",
       "</div>"
      ],
      "text/plain": [
       "                                           name  \\\n",
       "0  Role of PRR7 in control of the CCA1 promoter   \n",
       "\n",
       "                                             purpose  \\\n",
       "0  To test whether PRR7 is required for circadian...   \n",
       "\n",
       "                                         description  \\\n",
       "0  In previous experiments several clock mutation...   \n",
       "\n",
       "                                            comments  author_id author_login  \\\n",
       "0  Details are as in Bordage et al (2016) New Phy...       2627       hnimmo   \n",
       "\n",
       "  author_firstName author_lastName author_ORCID curators  \n",
       "0             Hugh           Nimmo         None     None  "
      ]
     },
     "execution_count": 76,
     "metadata": {},
     "output_type": "execute_result"
    }
   ],
   "source": [
    "df_join"
   ]
  },
  {
   "cell_type": "code",
   "execution_count": 77,
   "id": "3a5038e4",
   "metadata": {},
   "outputs": [
    {
     "data": {
      "text/plain": [
       "{'authors': [{'id': 2627,\n",
       "   'login': 'hnimmo',\n",
       "   'firstName': 'Hugh',\n",
       "   'lastName': 'Nimmo',\n",
       "   'ORCID': None}],\n",
       " 'curators': None,\n",
       " 'institutions': [{'name': 'University of Glasgow',\n",
       "   'longName': 'University of Glasgow'}],\n",
       " 'fundings': [{'institution': {'name': 'BBSRC'}, 'grantNr': 'BB/K006835/1'}]}"
      ]
     },
     "execution_count": 77,
     "metadata": {},
     "output_type": "execute_result"
    }
   ],
   "source": [
    "data['contributionDesc']"
   ]
  },
  {
   "cell_type": "code",
   "execution_count": 78,
   "id": "1412cdce",
   "metadata": {},
   "outputs": [],
   "source": [
    "df_institutions = pd.json_normalize(data['contributionDesc']['institutions'],\n",
    "                      meta=['name','longName'])"
   ]
  },
  {
   "cell_type": "code",
   "execution_count": 79,
   "id": "b5a27e23",
   "metadata": {},
   "outputs": [
    {
     "data": {
      "text/html": [
       "<div>\n",
       "<style scoped>\n",
       "    .dataframe tbody tr th:only-of-type {\n",
       "        vertical-align: middle;\n",
       "    }\n",
       "\n",
       "    .dataframe tbody tr th {\n",
       "        vertical-align: top;\n",
       "    }\n",
       "\n",
       "    .dataframe thead th {\n",
       "        text-align: right;\n",
       "    }\n",
       "</style>\n",
       "<table border=\"1\" class=\"dataframe\">\n",
       "  <thead>\n",
       "    <tr style=\"text-align: right;\">\n",
       "      <th></th>\n",
       "      <th>name</th>\n",
       "      <th>longName</th>\n",
       "    </tr>\n",
       "  </thead>\n",
       "  <tbody>\n",
       "    <tr>\n",
       "      <th>0</th>\n",
       "      <td>University of Glasgow</td>\n",
       "      <td>University of Glasgow</td>\n",
       "    </tr>\n",
       "  </tbody>\n",
       "</table>\n",
       "</div>"
      ],
      "text/plain": [
       "                    name               longName\n",
       "0  University of Glasgow  University of Glasgow"
      ]
     },
     "execution_count": 79,
     "metadata": {},
     "output_type": "execute_result"
    }
   ],
   "source": [
    "df_institutions"
   ]
  },
  {
   "cell_type": "code",
   "execution_count": 82,
   "id": "37d1a065",
   "metadata": {},
   "outputs": [],
   "source": [
    "df3_new = df_institutions.rename(columns={'name':'institution_name','longName':'institution_longName'})"
   ]
  },
  {
   "cell_type": "code",
   "execution_count": 83,
   "id": "f2605825",
   "metadata": {},
   "outputs": [
    {
     "data": {
      "text/html": [
       "<div>\n",
       "<style scoped>\n",
       "    .dataframe tbody tr th:only-of-type {\n",
       "        vertical-align: middle;\n",
       "    }\n",
       "\n",
       "    .dataframe tbody tr th {\n",
       "        vertical-align: top;\n",
       "    }\n",
       "\n",
       "    .dataframe thead th {\n",
       "        text-align: right;\n",
       "    }\n",
       "</style>\n",
       "<table border=\"1\" class=\"dataframe\">\n",
       "  <thead>\n",
       "    <tr style=\"text-align: right;\">\n",
       "      <th></th>\n",
       "      <th>institution_name</th>\n",
       "      <th>institution_longName</th>\n",
       "    </tr>\n",
       "  </thead>\n",
       "  <tbody>\n",
       "    <tr>\n",
       "      <th>0</th>\n",
       "      <td>University of Glasgow</td>\n",
       "      <td>University of Glasgow</td>\n",
       "    </tr>\n",
       "  </tbody>\n",
       "</table>\n",
       "</div>"
      ],
      "text/plain": [
       "        institution_name   institution_longName\n",
       "0  University of Glasgow  University of Glasgow"
      ]
     },
     "execution_count": 83,
     "metadata": {},
     "output_type": "execute_result"
    }
   ],
   "source": [
    "df3_new"
   ]
  },
  {
   "cell_type": "code",
   "execution_count": 84,
   "id": "bb2d47b2",
   "metadata": {},
   "outputs": [],
   "source": [
    "df_join2 = pd.merge(df_join,df3_new,left_index=True, right_index=True, how='inner')"
   ]
  },
  {
   "cell_type": "code",
   "execution_count": 85,
   "id": "92318a0e",
   "metadata": {},
   "outputs": [
    {
     "data": {
      "text/html": [
       "<div>\n",
       "<style scoped>\n",
       "    .dataframe tbody tr th:only-of-type {\n",
       "        vertical-align: middle;\n",
       "    }\n",
       "\n",
       "    .dataframe tbody tr th {\n",
       "        vertical-align: top;\n",
       "    }\n",
       "\n",
       "    .dataframe thead th {\n",
       "        text-align: right;\n",
       "    }\n",
       "</style>\n",
       "<table border=\"1\" class=\"dataframe\">\n",
       "  <thead>\n",
       "    <tr style=\"text-align: right;\">\n",
       "      <th></th>\n",
       "      <th>name</th>\n",
       "      <th>purpose</th>\n",
       "      <th>description</th>\n",
       "      <th>comments</th>\n",
       "      <th>author_id</th>\n",
       "      <th>author_login</th>\n",
       "      <th>author_firstName</th>\n",
       "      <th>author_lastName</th>\n",
       "      <th>author_ORCID</th>\n",
       "      <th>curators</th>\n",
       "      <th>institution_name</th>\n",
       "      <th>institution_longName</th>\n",
       "    </tr>\n",
       "  </thead>\n",
       "  <tbody>\n",
       "    <tr>\n",
       "      <th>0</th>\n",
       "      <td>Role of PRR7 in control of the CCA1 promoter</td>\n",
       "      <td>To test whether PRR7 is required for circadian...</td>\n",
       "      <td>In previous experiments several clock mutation...</td>\n",
       "      <td>Details are as in Bordage et al (2016) New Phy...</td>\n",
       "      <td>2627</td>\n",
       "      <td>hnimmo</td>\n",
       "      <td>Hugh</td>\n",
       "      <td>Nimmo</td>\n",
       "      <td>None</td>\n",
       "      <td>None</td>\n",
       "      <td>University of Glasgow</td>\n",
       "      <td>University of Glasgow</td>\n",
       "    </tr>\n",
       "  </tbody>\n",
       "</table>\n",
       "</div>"
      ],
      "text/plain": [
       "                                           name  \\\n",
       "0  Role of PRR7 in control of the CCA1 promoter   \n",
       "\n",
       "                                             purpose  \\\n",
       "0  To test whether PRR7 is required for circadian...   \n",
       "\n",
       "                                         description  \\\n",
       "0  In previous experiments several clock mutation...   \n",
       "\n",
       "                                            comments  author_id author_login  \\\n",
       "0  Details are as in Bordage et al (2016) New Phy...       2627       hnimmo   \n",
       "\n",
       "  author_firstName author_lastName author_ORCID curators  \\\n",
       "0             Hugh           Nimmo         None     None   \n",
       "\n",
       "        institution_name   institution_longName  \n",
       "0  University of Glasgow  University of Glasgow  "
      ]
     },
     "execution_count": 85,
     "metadata": {},
     "output_type": "execute_result"
    }
   ],
   "source": [
    "df_join2"
   ]
  },
  {
   "cell_type": "code",
   "execution_count": 86,
   "id": "bcf7e524",
   "metadata": {},
   "outputs": [],
   "source": [
    "df_funding = pd.json_normalize(data['contributionDesc']['fundings'],\n",
    "                      meta=['institution','grantNr'])"
   ]
  },
  {
   "cell_type": "code",
   "execution_count": 88,
   "id": "8276cc39",
   "metadata": {},
   "outputs": [],
   "source": [
    "df4_new = df_funding.rename(columns={'institution':'institution_funding_name','grantNr':'grantNr_funding'})"
   ]
  },
  {
   "cell_type": "code",
   "execution_count": 89,
   "id": "310fdcd0",
   "metadata": {},
   "outputs": [],
   "source": [
    "df_join3 = pd.merge(df_join2,df4_new,left_index=True, right_index=True, how='inner')"
   ]
  },
  {
   "cell_type": "code",
   "execution_count": 90,
   "id": "8105b4ee",
   "metadata": {},
   "outputs": [
    {
     "data": {
      "text/html": [
       "<div>\n",
       "<style scoped>\n",
       "    .dataframe tbody tr th:only-of-type {\n",
       "        vertical-align: middle;\n",
       "    }\n",
       "\n",
       "    .dataframe tbody tr th {\n",
       "        vertical-align: top;\n",
       "    }\n",
       "\n",
       "    .dataframe thead th {\n",
       "        text-align: right;\n",
       "    }\n",
       "</style>\n",
       "<table border=\"1\" class=\"dataframe\">\n",
       "  <thead>\n",
       "    <tr style=\"text-align: right;\">\n",
       "      <th></th>\n",
       "      <th>name</th>\n",
       "      <th>purpose</th>\n",
       "      <th>description</th>\n",
       "      <th>comments</th>\n",
       "      <th>author_id</th>\n",
       "      <th>author_login</th>\n",
       "      <th>author_firstName</th>\n",
       "      <th>author_lastName</th>\n",
       "      <th>author_ORCID</th>\n",
       "      <th>curators</th>\n",
       "      <th>institution_name</th>\n",
       "      <th>institution_longName</th>\n",
       "      <th>grantNr_funding</th>\n",
       "      <th>institution.name</th>\n",
       "    </tr>\n",
       "  </thead>\n",
       "  <tbody>\n",
       "    <tr>\n",
       "      <th>0</th>\n",
       "      <td>Role of PRR7 in control of the CCA1 promoter</td>\n",
       "      <td>To test whether PRR7 is required for circadian...</td>\n",
       "      <td>In previous experiments several clock mutation...</td>\n",
       "      <td>Details are as in Bordage et al (2016) New Phy...</td>\n",
       "      <td>2627</td>\n",
       "      <td>hnimmo</td>\n",
       "      <td>Hugh</td>\n",
       "      <td>Nimmo</td>\n",
       "      <td>None</td>\n",
       "      <td>None</td>\n",
       "      <td>University of Glasgow</td>\n",
       "      <td>University of Glasgow</td>\n",
       "      <td>BB/K006835/1</td>\n",
       "      <td>BBSRC</td>\n",
       "    </tr>\n",
       "  </tbody>\n",
       "</table>\n",
       "</div>"
      ],
      "text/plain": [
       "                                           name  \\\n",
       "0  Role of PRR7 in control of the CCA1 promoter   \n",
       "\n",
       "                                             purpose  \\\n",
       "0  To test whether PRR7 is required for circadian...   \n",
       "\n",
       "                                         description  \\\n",
       "0  In previous experiments several clock mutation...   \n",
       "\n",
       "                                            comments  author_id author_login  \\\n",
       "0  Details are as in Bordage et al (2016) New Phy...       2627       hnimmo   \n",
       "\n",
       "  author_firstName author_lastName author_ORCID curators  \\\n",
       "0             Hugh           Nimmo         None     None   \n",
       "\n",
       "        institution_name   institution_longName grantNr_funding  \\\n",
       "0  University of Glasgow  University of Glasgow    BB/K006835/1   \n",
       "\n",
       "  institution.name  \n",
       "0            BBSRC  "
      ]
     },
     "execution_count": 90,
     "metadata": {},
     "output_type": "execute_result"
    }
   ],
   "source": [
    "df_join3"
   ]
  },
  {
   "cell_type": "code",
   "execution_count": 91,
   "id": "f0cc8dbe",
   "metadata": {},
   "outputs": [
    {
     "data": {
      "text/plain": [
       "{'measurementDesc': {'technique': 'Luciferase luminescence',\n",
       "  'equipment': 'Photek 225/18 CCD camera',\n",
       "  'description': 'Mature plants were on square vertical agar plates at 20°C with shoot and root compartments separated and images recorded as in Bordage et al 2016. Plants were sprayed with luciferin 15 h before the start of data collection. Images were recorded every 1.5 h for 2 days in LD and 4 days in LL.',\n",
       "  'parameters': []},\n",
       " 'growthEnvironments': {'environments': []},\n",
       " 'experimentalEnvironments': {'environments': []},\n",
       " 'executionDate': [2021, 5, 20]}"
      ]
     },
     "execution_count": 91,
     "metadata": {},
     "output_type": "execute_result"
    }
   ],
   "source": [
    "data['experimentalDetails']"
   ]
  },
  {
   "cell_type": "code",
   "execution_count": 92,
   "id": "0951d964",
   "metadata": {},
   "outputs": [
    {
     "name": "stdout",
     "output_type": "stream",
     "text": [
      "Help on function json_normalize in module pandas.io.json._normalize:\n",
      "\n",
      "json_normalize(data: 'dict | list[dict]', record_path: 'str | list | None' = None, meta: 'str | list[str | list[str]] | None' = None, meta_prefix: 'str | None' = None, record_prefix: 'str | None' = None, errors: 'IgnoreRaise' = 'raise', sep: 'str' = '.', max_level: 'int | None' = None) -> 'DataFrame'\n",
      "    Normalize semi-structured JSON data into a flat table.\n",
      "    \n",
      "    Parameters\n",
      "    ----------\n",
      "    data : dict or list of dicts\n",
      "        Unserialized JSON objects.\n",
      "    record_path : str or list of str, default None\n",
      "        Path in each object to list of records. If not passed, data will be\n",
      "        assumed to be an array of records.\n",
      "    meta : list of paths (str or list of str), default None\n",
      "        Fields to use as metadata for each record in resulting table.\n",
      "    meta_prefix : str, default None\n",
      "        If True, prefix records with dotted (?) path, e.g. foo.bar.field if\n",
      "        meta is ['foo', 'bar'].\n",
      "    record_prefix : str, default None\n",
      "        If True, prefix records with dotted (?) path, e.g. foo.bar.field if\n",
      "        path to records is ['foo', 'bar'].\n",
      "    errors : {'raise', 'ignore'}, default 'raise'\n",
      "        Configures error handling.\n",
      "    \n",
      "        * 'ignore' : will ignore KeyError if keys listed in meta are not\n",
      "          always present.\n",
      "        * 'raise' : will raise KeyError if keys listed in meta are not\n",
      "          always present.\n",
      "    sep : str, default '.'\n",
      "        Nested records will generate names separated by sep.\n",
      "        e.g., for sep='.', {'foo': {'bar': 0}} -> foo.bar.\n",
      "    max_level : int, default None\n",
      "        Max number of levels(depth of dict) to normalize.\n",
      "        if None, normalizes all levels.\n",
      "    \n",
      "    Returns\n",
      "    -------\n",
      "    frame : DataFrame\n",
      "    Normalize semi-structured JSON data into a flat table.\n",
      "    \n",
      "    Examples\n",
      "    --------\n",
      "    >>> data = [\n",
      "    ...     {\"id\": 1, \"name\": {\"first\": \"Coleen\", \"last\": \"Volk\"}},\n",
      "    ...     {\"name\": {\"given\": \"Mark\", \"family\": \"Regner\"}},\n",
      "    ...     {\"id\": 2, \"name\": \"Faye Raker\"},\n",
      "    ... ]\n",
      "    >>> pd.json_normalize(data)\n",
      "        id name.first name.last name.given name.family        name\n",
      "    0  1.0     Coleen      Volk        NaN         NaN         NaN\n",
      "    1  NaN        NaN       NaN       Mark      Regner         NaN\n",
      "    2  2.0        NaN       NaN        NaN         NaN  Faye Raker\n",
      "    \n",
      "    >>> data = [\n",
      "    ...     {\n",
      "    ...         \"id\": 1,\n",
      "    ...         \"name\": \"Cole Volk\",\n",
      "    ...         \"fitness\": {\"height\": 130, \"weight\": 60},\n",
      "    ...     },\n",
      "    ...     {\"name\": \"Mark Reg\", \"fitness\": {\"height\": 130, \"weight\": 60}},\n",
      "    ...     {\n",
      "    ...         \"id\": 2,\n",
      "    ...         \"name\": \"Faye Raker\",\n",
      "    ...         \"fitness\": {\"height\": 130, \"weight\": 60},\n",
      "    ...     },\n",
      "    ... ]\n",
      "    >>> pd.json_normalize(data, max_level=0)\n",
      "        id        name                        fitness\n",
      "    0  1.0   Cole Volk  {'height': 130, 'weight': 60}\n",
      "    1  NaN    Mark Reg  {'height': 130, 'weight': 60}\n",
      "    2  2.0  Faye Raker  {'height': 130, 'weight': 60}\n",
      "    \n",
      "    Normalizes nested data up to level 1.\n",
      "    \n",
      "    >>> data = [\n",
      "    ...     {\n",
      "    ...         \"id\": 1,\n",
      "    ...         \"name\": \"Cole Volk\",\n",
      "    ...         \"fitness\": {\"height\": 130, \"weight\": 60},\n",
      "    ...     },\n",
      "    ...     {\"name\": \"Mark Reg\", \"fitness\": {\"height\": 130, \"weight\": 60}},\n",
      "    ...     {\n",
      "    ...         \"id\": 2,\n",
      "    ...         \"name\": \"Faye Raker\",\n",
      "    ...         \"fitness\": {\"height\": 130, \"weight\": 60},\n",
      "    ...     },\n",
      "    ... ]\n",
      "    >>> pd.json_normalize(data, max_level=1)\n",
      "        id        name  fitness.height  fitness.weight\n",
      "    0  1.0   Cole Volk             130              60\n",
      "    1  NaN    Mark Reg             130              60\n",
      "    2  2.0  Faye Raker             130              60\n",
      "    \n",
      "    >>> data = [\n",
      "    ...     {\n",
      "    ...         \"state\": \"Florida\",\n",
      "    ...         \"shortname\": \"FL\",\n",
      "    ...         \"info\": {\"governor\": \"Rick Scott\"},\n",
      "    ...         \"counties\": [\n",
      "    ...             {\"name\": \"Dade\", \"population\": 12345},\n",
      "    ...             {\"name\": \"Broward\", \"population\": 40000},\n",
      "    ...             {\"name\": \"Palm Beach\", \"population\": 60000},\n",
      "    ...         ],\n",
      "    ...     },\n",
      "    ...     {\n",
      "    ...         \"state\": \"Ohio\",\n",
      "    ...         \"shortname\": \"OH\",\n",
      "    ...         \"info\": {\"governor\": \"John Kasich\"},\n",
      "    ...         \"counties\": [\n",
      "    ...             {\"name\": \"Summit\", \"population\": 1234},\n",
      "    ...             {\"name\": \"Cuyahoga\", \"population\": 1337},\n",
      "    ...         ],\n",
      "    ...     },\n",
      "    ... ]\n",
      "    >>> result = pd.json_normalize(\n",
      "    ...     data, \"counties\", [\"state\", \"shortname\", [\"info\", \"governor\"]]\n",
      "    ... )\n",
      "    >>> result\n",
      "             name  population    state shortname info.governor\n",
      "    0        Dade       12345   Florida    FL    Rick Scott\n",
      "    1     Broward       40000   Florida    FL    Rick Scott\n",
      "    2  Palm Beach       60000   Florida    FL    Rick Scott\n",
      "    3      Summit        1234   Ohio       OH    John Kasich\n",
      "    4    Cuyahoga        1337   Ohio       OH    John Kasich\n",
      "    \n",
      "    >>> data = {\"A\": [1, 2]}\n",
      "    >>> pd.json_normalize(data, \"A\", record_prefix=\"Prefix.\")\n",
      "        Prefix.0\n",
      "    0          1\n",
      "    1          2\n",
      "    \n",
      "    Returns normalized data with columns prefixed with the given string.\n",
      "\n"
     ]
    }
   ],
   "source": [
    "help(pd.json_normalize)"
   ]
  },
  {
   "cell_type": "code",
   "execution_count": 105,
   "id": "ffc01205",
   "metadata": {},
   "outputs": [
    {
     "data": {
      "text/html": [
       "<div>\n",
       "<style scoped>\n",
       "    .dataframe tbody tr th:only-of-type {\n",
       "        vertical-align: middle;\n",
       "    }\n",
       "\n",
       "    .dataframe tbody tr th {\n",
       "        vertical-align: top;\n",
       "    }\n",
       "\n",
       "    .dataframe thead th {\n",
       "        text-align: right;\n",
       "    }\n",
       "</style>\n",
       "<table border=\"1\" class=\"dataframe\">\n",
       "  <thead>\n",
       "    <tr style=\"text-align: right;\">\n",
       "      <th></th>\n",
       "      <th>name</th>\n",
       "      <th>purpose</th>\n",
       "      <th>description</th>\n",
       "      <th>comments</th>\n",
       "    </tr>\n",
       "  </thead>\n",
       "  <tbody>\n",
       "    <tr>\n",
       "      <th>0</th>\n",
       "      <td>Role of PRR7 in control of the CCA1 promoter</td>\n",
       "      <td>To test whether PRR7 is required for circadian...</td>\n",
       "      <td>In previous experiments several clock mutation...</td>\n",
       "      <td>Details are as in Bordage et al (2016) New Phy...</td>\n",
       "    </tr>\n",
       "  </tbody>\n",
       "</table>\n",
       "</div>"
      ],
      "text/plain": [
       "                                           name  \\\n",
       "0  Role of PRR7 in control of the CCA1 promoter   \n",
       "\n",
       "                                             purpose  \\\n",
       "0  To test whether PRR7 is required for circadian...   \n",
       "\n",
       "                                         description  \\\n",
       "0  In previous experiments several clock mutation...   \n",
       "\n",
       "                                            comments  \n",
       "0  Details are as in Bordage et al (2016) New Phy...  "
      ]
     },
     "execution_count": 105,
     "metadata": {},
     "output_type": "execute_result"
    }
   ],
   "source": [
    "df_generalDesc = pd.json_normalize(data['generalDesc'])\n",
    "df_generalDesc"
   ]
  },
  {
   "cell_type": "code",
   "execution_count": 107,
   "id": "276637d3",
   "metadata": {},
   "outputs": [
    {
     "data": {
      "text/html": [
       "<div>\n",
       "<style scoped>\n",
       "    .dataframe tbody tr th:only-of-type {\n",
       "        vertical-align: middle;\n",
       "    }\n",
       "\n",
       "    .dataframe tbody tr th {\n",
       "        vertical-align: top;\n",
       "    }\n",
       "\n",
       "    .dataframe thead th {\n",
       "        text-align: right;\n",
       "    }\n",
       "</style>\n",
       "<table border=\"1\" class=\"dataframe\">\n",
       "  <thead>\n",
       "    <tr style=\"text-align: right;\">\n",
       "      <th></th>\n",
       "      <th>id</th>\n",
       "      <th>login</th>\n",
       "      <th>firstName</th>\n",
       "      <th>lastName</th>\n",
       "      <th>ORCID</th>\n",
       "    </tr>\n",
       "  </thead>\n",
       "  <tbody>\n",
       "    <tr>\n",
       "      <th>0</th>\n",
       "      <td>2627</td>\n",
       "      <td>hnimmo</td>\n",
       "      <td>Hugh</td>\n",
       "      <td>Nimmo</td>\n",
       "      <td>None</td>\n",
       "    </tr>\n",
       "  </tbody>\n",
       "</table>\n",
       "</div>"
      ],
      "text/plain": [
       "     id   login firstName lastName ORCID\n",
       "0  2627  hnimmo      Hugh    Nimmo  None"
      ]
     },
     "execution_count": 107,
     "metadata": {},
     "output_type": "execute_result"
    }
   ],
   "source": [
    "df_contributionDesc_authors = pd.json_normalize(data['contributionDesc']['authors'])\n",
    "df_contributionDesc_authors"
   ]
  },
  {
   "cell_type": "code",
   "execution_count": 109,
   "id": "3a05c785",
   "metadata": {},
   "outputs": [
    {
     "data": {
      "text/html": [
       "<div>\n",
       "<style scoped>\n",
       "    .dataframe tbody tr th:only-of-type {\n",
       "        vertical-align: middle;\n",
       "    }\n",
       "\n",
       "    .dataframe tbody tr th {\n",
       "        vertical-align: top;\n",
       "    }\n",
       "\n",
       "    .dataframe thead th {\n",
       "        text-align: right;\n",
       "    }\n",
       "</style>\n",
       "<table border=\"1\" class=\"dataframe\">\n",
       "  <thead>\n",
       "    <tr style=\"text-align: right;\">\n",
       "      <th></th>\n",
       "    </tr>\n",
       "  </thead>\n",
       "  <tbody>\n",
       "  </tbody>\n",
       "</table>\n",
       "</div>"
      ],
      "text/plain": [
       "Empty DataFrame\n",
       "Columns: []\n",
       "Index: []"
      ]
     },
     "execution_count": 109,
     "metadata": {},
     "output_type": "execute_result"
    }
   ],
   "source": [
    "df_curators = pd.json_normalize(data['contributionDesc']['curators'])\n",
    "df_curators"
   ]
  },
  {
   "cell_type": "code",
   "execution_count": 111,
   "id": "515f785e",
   "metadata": {},
   "outputs": [
    {
     "data": {
      "text/html": [
       "<div>\n",
       "<style scoped>\n",
       "    .dataframe tbody tr th:only-of-type {\n",
       "        vertical-align: middle;\n",
       "    }\n",
       "\n",
       "    .dataframe tbody tr th {\n",
       "        vertical-align: top;\n",
       "    }\n",
       "\n",
       "    .dataframe thead th {\n",
       "        text-align: right;\n",
       "    }\n",
       "</style>\n",
       "<table border=\"1\" class=\"dataframe\">\n",
       "  <thead>\n",
       "    <tr style=\"text-align: right;\">\n",
       "      <th></th>\n",
       "      <th>name</th>\n",
       "      <th>longName</th>\n",
       "    </tr>\n",
       "  </thead>\n",
       "  <tbody>\n",
       "    <tr>\n",
       "      <th>0</th>\n",
       "      <td>University of Glasgow</td>\n",
       "      <td>University of Glasgow</td>\n",
       "    </tr>\n",
       "  </tbody>\n",
       "</table>\n",
       "</div>"
      ],
      "text/plain": [
       "                    name               longName\n",
       "0  University of Glasgow  University of Glasgow"
      ]
     },
     "execution_count": 111,
     "metadata": {},
     "output_type": "execute_result"
    }
   ],
   "source": [
    "df_institutions = pd.json_normalize(data['contributionDesc']['institutions'])\n",
    "df_institutions"
   ]
  },
  {
   "cell_type": "code",
   "execution_count": 112,
   "id": "06622eed",
   "metadata": {},
   "outputs": [
    {
     "data": {
      "text/plain": [
       "{'id': 19235,\n",
       " 'versionId': '1.0.5',\n",
       " 'generalDesc': {'name': 'Role of PRR7 in control of the CCA1 promoter',\n",
       "  'purpose': 'To test whether PRR7 is required for circadian input to the CCA1 promoter in shoots and roots',\n",
       "  'description': 'In previous experiments several clock mutations were found to have different effects on shoots and roots. In these experiments mature prr7-3 plants expressing CCA1::LUC were grown on vertical agar plates as described previously. LUC activity in shoots and roots was monitored over 2 full days in LD cycles (12:12) followed by 4 days in LL.',\n",
       "  'comments': 'Details are as in Bordage et al (2016) New Phytol. 212, 136-149'},\n",
       " 'contributionDesc': {'authors': [{'id': 2627,\n",
       "    'login': 'hnimmo',\n",
       "    'firstName': 'Hugh',\n",
       "    'lastName': 'Nimmo',\n",
       "    'ORCID': None}],\n",
       "  'curators': [],\n",
       "  'institutions': [{'name': 'University of Glasgow',\n",
       "    'longName': 'University of Glasgow'}],\n",
       "  'fundings': [{'institution': {'name': 'BBSRC'}, 'grantNr': 'BB/K006835/1'}]},\n",
       " 'experimentalDetails': {'measurementDesc': {'technique': 'Luciferase luminescence',\n",
       "   'equipment': 'Photek 225/18 CCD camera',\n",
       "   'description': 'Mature plants were on square vertical agar plates at 20°C with shoot and root compartments separated and images recorded as in Bordage et al 2016. Plants were sprayed with luciferin 15 h before the start of data collection. Images were recorded every 1.5 h for 2 days in LD and 4 days in LL.',\n",
       "   'parameters': []},\n",
       "  'growthEnvironments': {'environments': []},\n",
       "  'experimentalEnvironments': {'environments': []},\n",
       "  'executionDate': [2021, 5, 20]},\n",
       " 'characteristic': {'hasAttachments': False,\n",
       "  'hasTSData': True,\n",
       "  'hasPPAJobs': True,\n",
       "  'hasDataFiles': True,\n",
       "  'attachmentsSize': 0,\n",
       "  'biodare1Id': 0,\n",
       "  'isOpenAccess': True,\n",
       "  'licence': 'CC_BY',\n",
       "  'hasRhythmicityJobs': False},\n",
       " 'bioDescription': {'bios': []},\n",
       " 'bioSummary': {'dataCategories': [],\n",
       "  'labels': [],\n",
       "  'species': [],\n",
       "  'ecotypes': [],\n",
       "  'genotypes': [],\n",
       "  'markers': [],\n",
       "  'lines': [],\n",
       "  'growthStages': [],\n",
       "  'tagTypes': [],\n",
       "  'materialTypes': [],\n",
       "  'materialOrigins': [],\n",
       "  'customTags': [],\n",
       "  'externalIds': []},\n",
       " 'species': 'Arabidopsis thaliana',\n",
       " 'dataCategory': 'EXPR_REPORTER',\n",
       " 'provenance': {'created': [2021, 5, 20, 11, 40, 29, 435610000],\n",
       "  'createdBy': 'Hugh Nimmo',\n",
       "  'modified': [2021, 9, 22, 10, 12, 6, 894984951],\n",
       "  'modifiedBy': 'Hugh Nimmo'}}"
      ]
     },
     "execution_count": 112,
     "metadata": {},
     "output_type": "execute_result"
    }
   ],
   "source": [
    "data"
   ]
  },
  {
   "cell_type": "code",
   "execution_count": 113,
   "id": "345d05f6",
   "metadata": {},
   "outputs": [
    {
     "data": {
      "text/html": [
       "<div>\n",
       "<style scoped>\n",
       "    .dataframe tbody tr th:only-of-type {\n",
       "        vertical-align: middle;\n",
       "    }\n",
       "\n",
       "    .dataframe tbody tr th {\n",
       "        vertical-align: top;\n",
       "    }\n",
       "\n",
       "    .dataframe thead th {\n",
       "        text-align: right;\n",
       "    }\n",
       "</style>\n",
       "<table border=\"1\" class=\"dataframe\">\n",
       "  <thead>\n",
       "    <tr style=\"text-align: right;\">\n",
       "      <th></th>\n",
       "      <th>grantNr</th>\n",
       "      <th>institution.name</th>\n",
       "    </tr>\n",
       "  </thead>\n",
       "  <tbody>\n",
       "    <tr>\n",
       "      <th>0</th>\n",
       "      <td>BB/K006835/1</td>\n",
       "      <td>BBSRC</td>\n",
       "    </tr>\n",
       "  </tbody>\n",
       "</table>\n",
       "</div>"
      ],
      "text/plain": [
       "        grantNr institution.name\n",
       "0  BB/K006835/1            BBSRC"
      ]
     },
     "execution_count": 113,
     "metadata": {},
     "output_type": "execute_result"
    }
   ],
   "source": [
    "df_fundings = pd.json_normalize(data['contributionDesc']['fundings'])\n",
    "df_fundings"
   ]
  },
  {
   "cell_type": "code",
   "execution_count": 114,
   "id": "77b94930",
   "metadata": {},
   "outputs": [
    {
     "data": {
      "text/plain": [
       "{'measurementDesc': {'technique': 'Luciferase luminescence',\n",
       "  'equipment': 'Photek 225/18 CCD camera',\n",
       "  'description': 'Mature plants were on square vertical agar plates at 20°C with shoot and root compartments separated and images recorded as in Bordage et al 2016. Plants were sprayed with luciferin 15 h before the start of data collection. Images were recorded every 1.5 h for 2 days in LD and 4 days in LL.',\n",
       "  'parameters': []},\n",
       " 'growthEnvironments': {'environments': []},\n",
       " 'experimentalEnvironments': {'environments': []},\n",
       " 'executionDate': [2021, 5, 20]}"
      ]
     },
     "execution_count": 114,
     "metadata": {},
     "output_type": "execute_result"
    }
   ],
   "source": [
    "data['experimentalDetails']"
   ]
  },
  {
   "cell_type": "code",
   "execution_count": 115,
   "id": "b3cedff2",
   "metadata": {},
   "outputs": [
    {
     "data": {
      "text/html": [
       "<div>\n",
       "<style scoped>\n",
       "    .dataframe tbody tr th:only-of-type {\n",
       "        vertical-align: middle;\n",
       "    }\n",
       "\n",
       "    .dataframe tbody tr th {\n",
       "        vertical-align: top;\n",
       "    }\n",
       "\n",
       "    .dataframe thead th {\n",
       "        text-align: right;\n",
       "    }\n",
       "</style>\n",
       "<table border=\"1\" class=\"dataframe\">\n",
       "  <thead>\n",
       "    <tr style=\"text-align: right;\">\n",
       "      <th></th>\n",
       "      <th>executionDate</th>\n",
       "      <th>measurementDesc.technique</th>\n",
       "      <th>measurementDesc.equipment</th>\n",
       "      <th>measurementDesc.description</th>\n",
       "      <th>measurementDesc.parameters</th>\n",
       "      <th>growthEnvironments.environments</th>\n",
       "      <th>experimentalEnvironments.environments</th>\n",
       "    </tr>\n",
       "  </thead>\n",
       "  <tbody>\n",
       "    <tr>\n",
       "      <th>0</th>\n",
       "      <td>[2021, 5, 20]</td>\n",
       "      <td>Luciferase luminescence</td>\n",
       "      <td>Photek 225/18 CCD camera</td>\n",
       "      <td>Mature plants were on square vertical agar pla...</td>\n",
       "      <td>[]</td>\n",
       "      <td>[]</td>\n",
       "      <td>[]</td>\n",
       "    </tr>\n",
       "  </tbody>\n",
       "</table>\n",
       "</div>"
      ],
      "text/plain": [
       "   executionDate measurementDesc.technique measurementDesc.equipment  \\\n",
       "0  [2021, 5, 20]   Luciferase luminescence  Photek 225/18 CCD camera   \n",
       "\n",
       "                         measurementDesc.description  \\\n",
       "0  Mature plants were on square vertical agar pla...   \n",
       "\n",
       "  measurementDesc.parameters growthEnvironments.environments  \\\n",
       "0                         []                              []   \n",
       "\n",
       "  experimentalEnvironments.environments  \n",
       "0                                    []  "
      ]
     },
     "execution_count": 115,
     "metadata": {},
     "output_type": "execute_result"
    }
   ],
   "source": [
    "df_experimentalDetails = pd.json_normalize(data['experimentalDetails'])\n",
    "df_experimentalDetails"
   ]
  },
  {
   "cell_type": "code",
   "execution_count": 116,
   "id": "9e352355",
   "metadata": {},
   "outputs": [
    {
     "data": {
      "text/plain": [
       "{'id': 19235,\n",
       " 'versionId': '1.0.5',\n",
       " 'generalDesc': {'name': 'Role of PRR7 in control of the CCA1 promoter',\n",
       "  'purpose': 'To test whether PRR7 is required for circadian input to the CCA1 promoter in shoots and roots',\n",
       "  'description': 'In previous experiments several clock mutations were found to have different effects on shoots and roots. In these experiments mature prr7-3 plants expressing CCA1::LUC were grown on vertical agar plates as described previously. LUC activity in shoots and roots was monitored over 2 full days in LD cycles (12:12) followed by 4 days in LL.',\n",
       "  'comments': 'Details are as in Bordage et al (2016) New Phytol. 212, 136-149'},\n",
       " 'contributionDesc': {'authors': [{'id': 2627,\n",
       "    'login': 'hnimmo',\n",
       "    'firstName': 'Hugh',\n",
       "    'lastName': 'Nimmo',\n",
       "    'ORCID': None}],\n",
       "  'curators': [],\n",
       "  'institutions': [{'name': 'University of Glasgow',\n",
       "    'longName': 'University of Glasgow'}],\n",
       "  'fundings': [{'institution': {'name': 'BBSRC'}, 'grantNr': 'BB/K006835/1'}]},\n",
       " 'experimentalDetails': {'measurementDesc': {'technique': 'Luciferase luminescence',\n",
       "   'equipment': 'Photek 225/18 CCD camera',\n",
       "   'description': 'Mature plants were on square vertical agar plates at 20°C with shoot and root compartments separated and images recorded as in Bordage et al 2016. Plants were sprayed with luciferin 15 h before the start of data collection. Images were recorded every 1.5 h for 2 days in LD and 4 days in LL.',\n",
       "   'parameters': []},\n",
       "  'growthEnvironments': {'environments': []},\n",
       "  'experimentalEnvironments': {'environments': []},\n",
       "  'executionDate': [2021, 5, 20]},\n",
       " 'characteristic': {'hasAttachments': False,\n",
       "  'hasTSData': True,\n",
       "  'hasPPAJobs': True,\n",
       "  'hasDataFiles': True,\n",
       "  'attachmentsSize': 0,\n",
       "  'biodare1Id': 0,\n",
       "  'isOpenAccess': True,\n",
       "  'licence': 'CC_BY',\n",
       "  'hasRhythmicityJobs': False},\n",
       " 'bioDescription': {'bios': []},\n",
       " 'bioSummary': {'dataCategories': [],\n",
       "  'labels': [],\n",
       "  'species': [],\n",
       "  'ecotypes': [],\n",
       "  'genotypes': [],\n",
       "  'markers': [],\n",
       "  'lines': [],\n",
       "  'growthStages': [],\n",
       "  'tagTypes': [],\n",
       "  'materialTypes': [],\n",
       "  'materialOrigins': [],\n",
       "  'customTags': [],\n",
       "  'externalIds': []},\n",
       " 'species': 'Arabidopsis thaliana',\n",
       " 'dataCategory': 'EXPR_REPORTER',\n",
       " 'provenance': {'created': [2021, 5, 20, 11, 40, 29, 435610000],\n",
       "  'createdBy': 'Hugh Nimmo',\n",
       "  'modified': [2021, 9, 22, 10, 12, 6, 894984951],\n",
       "  'modifiedBy': 'Hugh Nimmo'}}"
      ]
     },
     "execution_count": 116,
     "metadata": {},
     "output_type": "execute_result"
    }
   ],
   "source": [
    "data"
   ]
  },
  {
   "cell_type": "code",
   "execution_count": 117,
   "id": "aa4775fc",
   "metadata": {},
   "outputs": [
    {
     "data": {
      "text/plain": [
       "{'hasAttachments': False,\n",
       " 'hasTSData': True,\n",
       " 'hasPPAJobs': True,\n",
       " 'hasDataFiles': True,\n",
       " 'attachmentsSize': 0,\n",
       " 'biodare1Id': 0,\n",
       " 'isOpenAccess': True,\n",
       " 'licence': 'CC_BY',\n",
       " 'hasRhythmicityJobs': False}"
      ]
     },
     "execution_count": 117,
     "metadata": {},
     "output_type": "execute_result"
    }
   ],
   "source": [
    "data['characteristic']"
   ]
  },
  {
   "cell_type": "code",
   "execution_count": 119,
   "id": "7907c354",
   "metadata": {},
   "outputs": [
    {
     "data": {
      "text/html": [
       "<div>\n",
       "<style scoped>\n",
       "    .dataframe tbody tr th:only-of-type {\n",
       "        vertical-align: middle;\n",
       "    }\n",
       "\n",
       "    .dataframe tbody tr th {\n",
       "        vertical-align: top;\n",
       "    }\n",
       "\n",
       "    .dataframe thead th {\n",
       "        text-align: right;\n",
       "    }\n",
       "</style>\n",
       "<table border=\"1\" class=\"dataframe\">\n",
       "  <thead>\n",
       "    <tr style=\"text-align: right;\">\n",
       "      <th></th>\n",
       "      <th>hasAttachments</th>\n",
       "      <th>hasTSData</th>\n",
       "      <th>hasPPAJobs</th>\n",
       "      <th>hasDataFiles</th>\n",
       "      <th>attachmentsSize</th>\n",
       "      <th>biodare1Id</th>\n",
       "      <th>isOpenAccess</th>\n",
       "      <th>licence</th>\n",
       "      <th>hasRhythmicityJobs</th>\n",
       "    </tr>\n",
       "  </thead>\n",
       "  <tbody>\n",
       "    <tr>\n",
       "      <th>0</th>\n",
       "      <td>False</td>\n",
       "      <td>True</td>\n",
       "      <td>True</td>\n",
       "      <td>True</td>\n",
       "      <td>0</td>\n",
       "      <td>0</td>\n",
       "      <td>True</td>\n",
       "      <td>CC_BY</td>\n",
       "      <td>False</td>\n",
       "    </tr>\n",
       "  </tbody>\n",
       "</table>\n",
       "</div>"
      ],
      "text/plain": [
       "   hasAttachments  hasTSData  hasPPAJobs  hasDataFiles  attachmentsSize  \\\n",
       "0           False       True        True          True                0   \n",
       "\n",
       "   biodare1Id  isOpenAccess licence  hasRhythmicityJobs  \n",
       "0           0          True   CC_BY               False  "
      ]
     },
     "execution_count": 119,
     "metadata": {},
     "output_type": "execute_result"
    }
   ],
   "source": [
    "df_characteristics = pd.json_normalize(data['characteristic'])\n",
    "df_characteristics"
   ]
  },
  {
   "cell_type": "code",
   "execution_count": 121,
   "id": "f345b711",
   "metadata": {},
   "outputs": [
    {
     "data": {
      "text/html": [
       "<div>\n",
       "<style scoped>\n",
       "    .dataframe tbody tr th:only-of-type {\n",
       "        vertical-align: middle;\n",
       "    }\n",
       "\n",
       "    .dataframe tbody tr th {\n",
       "        vertical-align: top;\n",
       "    }\n",
       "\n",
       "    .dataframe thead th {\n",
       "        text-align: right;\n",
       "    }\n",
       "</style>\n",
       "<table border=\"1\" class=\"dataframe\">\n",
       "  <thead>\n",
       "    <tr style=\"text-align: right;\">\n",
       "      <th></th>\n",
       "      <th>bios</th>\n",
       "    </tr>\n",
       "  </thead>\n",
       "  <tbody>\n",
       "    <tr>\n",
       "      <th>0</th>\n",
       "      <td>[]</td>\n",
       "    </tr>\n",
       "  </tbody>\n",
       "</table>\n",
       "</div>"
      ],
      "text/plain": [
       "  bios\n",
       "0   []"
      ]
     },
     "execution_count": 121,
     "metadata": {},
     "output_type": "execute_result"
    }
   ],
   "source": [
    "df_bioDescrip = pd.json_normalize(data['bioDescription'])\n",
    "df_bioDescrip"
   ]
  },
  {
   "cell_type": "code",
   "execution_count": 122,
   "id": "ce0430b7",
   "metadata": {},
   "outputs": [
    {
     "data": {
      "text/html": [
       "<div>\n",
       "<style scoped>\n",
       "    .dataframe tbody tr th:only-of-type {\n",
       "        vertical-align: middle;\n",
       "    }\n",
       "\n",
       "    .dataframe tbody tr th {\n",
       "        vertical-align: top;\n",
       "    }\n",
       "\n",
       "    .dataframe thead th {\n",
       "        text-align: right;\n",
       "    }\n",
       "</style>\n",
       "<table border=\"1\" class=\"dataframe\">\n",
       "  <thead>\n",
       "    <tr style=\"text-align: right;\">\n",
       "      <th></th>\n",
       "      <th>dataCategories</th>\n",
       "      <th>labels</th>\n",
       "      <th>species</th>\n",
       "      <th>ecotypes</th>\n",
       "      <th>genotypes</th>\n",
       "      <th>markers</th>\n",
       "      <th>lines</th>\n",
       "      <th>growthStages</th>\n",
       "      <th>tagTypes</th>\n",
       "      <th>materialTypes</th>\n",
       "      <th>materialOrigins</th>\n",
       "      <th>customTags</th>\n",
       "      <th>externalIds</th>\n",
       "    </tr>\n",
       "  </thead>\n",
       "  <tbody>\n",
       "    <tr>\n",
       "      <th>0</th>\n",
       "      <td>[]</td>\n",
       "      <td>[]</td>\n",
       "      <td>[]</td>\n",
       "      <td>[]</td>\n",
       "      <td>[]</td>\n",
       "      <td>[]</td>\n",
       "      <td>[]</td>\n",
       "      <td>[]</td>\n",
       "      <td>[]</td>\n",
       "      <td>[]</td>\n",
       "      <td>[]</td>\n",
       "      <td>[]</td>\n",
       "      <td>[]</td>\n",
       "    </tr>\n",
       "  </tbody>\n",
       "</table>\n",
       "</div>"
      ],
      "text/plain": [
       "  dataCategories labels species ecotypes genotypes markers lines growthStages  \\\n",
       "0             []     []      []       []        []      []    []           []   \n",
       "\n",
       "  tagTypes materialTypes materialOrigins customTags externalIds  \n",
       "0       []            []              []         []          []  "
      ]
     },
     "execution_count": 122,
     "metadata": {},
     "output_type": "execute_result"
    }
   ],
   "source": [
    "df_summary = pd.json_normalize(data['bioSummary'])\n",
    "df_summary"
   ]
  },
  {
   "cell_type": "code",
   "execution_count": 124,
   "id": "d49e87aa",
   "metadata": {},
   "outputs": [
    {
     "data": {
      "text/plain": [
       "'Arabidopsis thaliana'"
      ]
     },
     "execution_count": 124,
     "metadata": {},
     "output_type": "execute_result"
    }
   ],
   "source": [
    "data['species']"
   ]
  },
  {
   "cell_type": "code",
   "execution_count": 127,
   "id": "ca247f8c",
   "metadata": {},
   "outputs": [
    {
     "data": {
      "text/plain": [
       "'EXPR_REPORTER'"
      ]
     },
     "execution_count": 127,
     "metadata": {},
     "output_type": "execute_result"
    }
   ],
   "source": [
    "data['dataCategory']"
   ]
  },
  {
   "cell_type": "code",
   "execution_count": 128,
   "id": "27411549",
   "metadata": {},
   "outputs": [
    {
     "data": {
      "text/html": [
       "<div>\n",
       "<style scoped>\n",
       "    .dataframe tbody tr th:only-of-type {\n",
       "        vertical-align: middle;\n",
       "    }\n",
       "\n",
       "    .dataframe tbody tr th {\n",
       "        vertical-align: top;\n",
       "    }\n",
       "\n",
       "    .dataframe thead th {\n",
       "        text-align: right;\n",
       "    }\n",
       "</style>\n",
       "<table border=\"1\" class=\"dataframe\">\n",
       "  <thead>\n",
       "    <tr style=\"text-align: right;\">\n",
       "      <th></th>\n",
       "      <th>created</th>\n",
       "      <th>createdBy</th>\n",
       "      <th>modified</th>\n",
       "      <th>modifiedBy</th>\n",
       "    </tr>\n",
       "  </thead>\n",
       "  <tbody>\n",
       "    <tr>\n",
       "      <th>0</th>\n",
       "      <td>[2021, 5, 20, 11, 40, 29, 435610000]</td>\n",
       "      <td>Hugh Nimmo</td>\n",
       "      <td>[2021, 9, 22, 10, 12, 6, 894984951]</td>\n",
       "      <td>Hugh Nimmo</td>\n",
       "    </tr>\n",
       "  </tbody>\n",
       "</table>\n",
       "</div>"
      ],
      "text/plain": [
       "                                created   createdBy  \\\n",
       "0  [2021, 5, 20, 11, 40, 29, 435610000]  Hugh Nimmo   \n",
       "\n",
       "                              modified  modifiedBy  \n",
       "0  [2021, 9, 22, 10, 12, 6, 894984951]  Hugh Nimmo  "
      ]
     },
     "execution_count": 128,
     "metadata": {},
     "output_type": "execute_result"
    }
   ],
   "source": [
    "df_provenance = pd.json_normalize(data['provenance'])\n",
    "df_provenance"
   ]
  },
  {
   "cell_type": "code",
   "execution_count": 131,
   "id": "0ade78d0",
   "metadata": {},
   "outputs": [],
   "source": [
    "result_df = pd.concat([df_generalDesc, df_contributionDesc_authors,df_fundings,], axis=1)"
   ]
  },
  {
   "cell_type": "code",
   "execution_count": 132,
   "id": "c6bf1e9c",
   "metadata": {},
   "outputs": [
    {
     "data": {
      "text/html": [
       "<div>\n",
       "<style scoped>\n",
       "    .dataframe tbody tr th:only-of-type {\n",
       "        vertical-align: middle;\n",
       "    }\n",
       "\n",
       "    .dataframe tbody tr th {\n",
       "        vertical-align: top;\n",
       "    }\n",
       "\n",
       "    .dataframe thead th {\n",
       "        text-align: right;\n",
       "    }\n",
       "</style>\n",
       "<table border=\"1\" class=\"dataframe\">\n",
       "  <thead>\n",
       "    <tr style=\"text-align: right;\">\n",
       "      <th></th>\n",
       "      <th>name</th>\n",
       "      <th>purpose</th>\n",
       "      <th>description</th>\n",
       "      <th>comments</th>\n",
       "      <th>id</th>\n",
       "      <th>login</th>\n",
       "      <th>firstName</th>\n",
       "      <th>lastName</th>\n",
       "      <th>ORCID</th>\n",
       "      <th>grantNr</th>\n",
       "      <th>institution.name</th>\n",
       "    </tr>\n",
       "  </thead>\n",
       "  <tbody>\n",
       "    <tr>\n",
       "      <th>0</th>\n",
       "      <td>Role of PRR7 in control of the CCA1 promoter</td>\n",
       "      <td>To test whether PRR7 is required for circadian...</td>\n",
       "      <td>In previous experiments several clock mutation...</td>\n",
       "      <td>Details are as in Bordage et al (2016) New Phy...</td>\n",
       "      <td>2627</td>\n",
       "      <td>hnimmo</td>\n",
       "      <td>Hugh</td>\n",
       "      <td>Nimmo</td>\n",
       "      <td>None</td>\n",
       "      <td>BB/K006835/1</td>\n",
       "      <td>BBSRC</td>\n",
       "    </tr>\n",
       "  </tbody>\n",
       "</table>\n",
       "</div>"
      ],
      "text/plain": [
       "                                           name  \\\n",
       "0  Role of PRR7 in control of the CCA1 promoter   \n",
       "\n",
       "                                             purpose  \\\n",
       "0  To test whether PRR7 is required for circadian...   \n",
       "\n",
       "                                         description  \\\n",
       "0  In previous experiments several clock mutation...   \n",
       "\n",
       "                                            comments    id   login firstName  \\\n",
       "0  Details are as in Bordage et al (2016) New Phy...  2627  hnimmo      Hugh   \n",
       "\n",
       "  lastName ORCID       grantNr institution.name  \n",
       "0    Nimmo  None  BB/K006835/1            BBSRC  "
      ]
     },
     "execution_count": 132,
     "metadata": {},
     "output_type": "execute_result"
    }
   ],
   "source": [
    "result_df"
   ]
  },
  {
   "cell_type": "code",
   "execution_count": null,
   "id": "78616ee3",
   "metadata": {},
   "outputs": [],
   "source": []
  }
 ],
 "metadata": {
  "kernelspec": {
   "display_name": "Python 3 (ipykernel)",
   "language": "python",
   "name": "python3"
  },
  "language_info": {
   "codemirror_mode": {
    "name": "ipython",
    "version": 3
   },
   "file_extension": ".py",
   "mimetype": "text/x-python",
   "name": "python",
   "nbconvert_exporter": "python",
   "pygments_lexer": "ipython3",
   "version": "3.11.5"
  }
 },
 "nbformat": 4,
 "nbformat_minor": 5
}
